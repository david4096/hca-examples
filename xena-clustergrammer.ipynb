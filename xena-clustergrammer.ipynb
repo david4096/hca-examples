{
 "cells": [
  {
   "cell_type": "markdown",
   "metadata": {},
   "source": [
    "# Xena Clustergrammer Demonstration\n",
    "\n",
    "The Xena API can support requests to create interactive heatmaps in a python notebook. This is useful for generating subsets of samples and genes for further analysis."
   ]
  },
  {
   "cell_type": "code",
   "execution_count": 32,
   "metadata": {
    "collapsed": true
   },
   "outputs": [],
   "source": [
    "import xenaPython as xena"
   ]
  },
  {
   "cell_type": "code",
   "execution_count": 33,
   "metadata": {
    "collapsed": false
   },
   "outputs": [],
   "source": [
    "hub = \"https://singlecell.xenahubs.net\"\n",
    "dataset = \"Zeisel/Zeisel_expression_mRNA_log2\"\n",
    "all_samples = xena.xenaAPI.dataset_samples(hub, dataset)\n",
    "all_fields = xena.xenaAPI.dataset_fields (hub, dataset)"
   ]
  },
  {
   "cell_type": "code",
   "execution_count": 34,
   "metadata": {
    "collapsed": false
   },
   "outputs": [],
   "source": [
    "features = ['KLK6', 'ERMN', 'UGT8', 'TF', 'CNDP1', 'OPALIN', 'RNASE1', 'ENPP2', 'MAG', 'CARNS1', 'MOBP', 'CLDN11', 'DBNDD2', 'CAPN3', 'FOLH1', 'LPAR1', 'GJB1', 'TMEM144', 'ABCA8', 'HHIP', 'FGFR3', 'AQP4', 'GJA1', 'AGT', 'MGST1', 'SLC39A12', 'SLC25A18', 'SLCO1C1', 'SDC4', 'GPR37L1', 'ACSBG1', 'SFXN5', 'BMPR1B', 'ATP13A4', 'RANBP3L', 'GJB6', 'GFAP', 'PRODH', 'SLC4A4']\n",
    "features = map(lambda x: x[0] + x[1:].lower(), features)"
   ]
  },
  {
   "cell_type": "code",
   "execution_count": 35,
   "metadata": {
    "collapsed": false
   },
   "outputs": [],
   "source": [
    "# Create a function to translate xena queries to clustergrammer instances.\n",
    "import csv\n",
    "import clustergrammer_widget as cw\n",
    "\n",
    "def clustergram(h, dataset, samples, probes, cluster=True):\n",
    "    values = xena.xenaAPI.Probes_values(hub, dataset, samples, probes)\n",
    "    # The first clustergram row has the sample names\n",
    "    with open('cluster.tsv', 'w',) as tsv_file:\n",
    "        writer = csv.writer(tsv_file, delimiter='\\t')\n",
    "        writer.writerow([\"\"] + samples)\n",
    "        for k, value in enumerate(values):\n",
    "            writer.writerow([probes[k]] + value)\n",
    "    # load data into new network instance and cluster\n",
    "    net = cw.Network(cw.clustergrammer_widget)\n",
    "    net.load_file('cluster.tsv')\n",
    "    net.cluster()\n",
    "\n",
    "    # view the results as a widget\n",
    "    return net\n"
   ]
  },
  {
   "cell_type": "code",
   "execution_count": 36,
   "metadata": {
    "collapsed": false
   },
   "outputs": [],
   "source": [
    "clustergram(hub, dataset, all_samples, features, True).widget()"
   ]
  }
 ],
 "metadata": {
  "kernelspec": {
   "display_name": "Python 2",
   "language": "python",
   "name": "python2"
  },
  "language_info": {
   "codemirror_mode": {
    "name": "ipython",
    "version": 2
   },
   "file_extension": ".py",
   "mimetype": "text/x-python",
   "name": "python",
   "nbconvert_exporter": "python",
   "pygments_lexer": "ipython2",
   "version": "2.7.12+"
  },
  "widgets": {
   "state": {
    "5a8c119ec3834057bc83ba2b3948b5ce": {
     "views": [
      {
       "cell_index": 5
      }
     ]
    }
   },
   "version": "1.2.0"
  }
 },
 "nbformat": 4,
 "nbformat_minor": 2
}
