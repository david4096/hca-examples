{
 "cells": [
  {
   "cell_type": "markdown",
   "metadata": {},
   "source": [
    "# Xena Clustergrammer Demonstration\n",
    "\n",
    "The Xena API can support requests to create interactive heatmaps in a python notebook. This is useful for generating subsets of samples and genes for further analysis."
   ]
  },
  {
   "cell_type": "code",
   "execution_count": 44,
   "metadata": {
    "collapsed": true
   },
   "outputs": [],
   "source": [
    "import xenaPython as xena"
   ]
  },
  {
   "cell_type": "code",
   "execution_count": 45,
   "metadata": {
    "collapsed": false
   },
   "outputs": [],
   "source": [
    "hub = \"https://toil.xenahubs.net\"\n",
    "dataset = \"tcga_RSEM_Hugo_norm_count\"\n",
    "all_samples = xena.xenaAPI.dataset_samples(hub, dataset)\n",
    "all_fields = xena.xenaAPI.dataset_fields (hub, dataset)\n",
    "#print xena.xenaAPI.Probes_values (hub, dataset, samples, probes)"
   ]
  },
  {
   "cell_type": "code",
   "execution_count": 46,
   "metadata": {
    "collapsed": false
   },
   "outputs": [],
   "source": [
    "# Create a function to translate xena queries to clustergrammer instances.\n",
    "import csv\n",
    "import clustergrammer_widget as cw\n",
    "\n",
    "def clustergram(h, dataset, samples, probes, cluster=True):\n",
    "    values = xena.xenaAPI.Probes_values(hub, dataset, samples, probes)\n",
    "    # The first clustergram row has the sample names\n",
    "    with open('cluster.tsv', 'w',) as tsv_file:\n",
    "        writer = csv.writer(tsv_file, delimiter='\\t')\n",
    "        writer.writerow([\"\"] + samples)\n",
    "        for k, value in enumerate(values):\n",
    "            writer.writerow([probes[k]] + value)\n",
    "    # load data into new network instance and cluster\n",
    "    net = cw.Network(cw.clustergrammer_widget)\n",
    "    net.load_file('cluster.tsv')\n",
    "    net.cluster()\n",
    "\n",
    "    # view the results as a widget\n",
    "    return net\n"
   ]
  },
  {
   "cell_type": "code",
   "execution_count": 52,
   "metadata": {
    "collapsed": false
   },
   "outputs": [],
   "source": [
    "clustergram(hub, dataset, all_samples[:1000], all_fields[:100], True).widget()"
   ]
  },
  {
   "cell_type": "code",
   "execution_count": null,
   "metadata": {
    "collapsed": true
   },
   "outputs": [],
   "source": []
  },
  {
   "cell_type": "code",
   "execution_count": null,
   "metadata": {
    "collapsed": true
   },
   "outputs": [],
   "source": []
  }
 ],
 "metadata": {
  "kernelspec": {
   "display_name": "Python 2",
   "language": "python",
   "name": "python2"
  },
  "language_info": {
   "codemirror_mode": {
    "name": "ipython",
    "version": 2
   },
   "file_extension": ".py",
   "mimetype": "text/x-python",
   "name": "python",
   "nbconvert_exporter": "python",
   "pygments_lexer": "ipython2",
   "version": "2.7.12+"
  },
  "widgets": {
   "state": {
    "8fb49ced544f4fd8b71a60943f35b997": {
     "views": [
      {
       "cell_index": 4
      }
     ]
    }
   },
   "version": "1.2.0"
  }
 },
 "nbformat": 4,
 "nbformat_minor": 2
}
