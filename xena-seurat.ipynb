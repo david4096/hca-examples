{
 "cells": [
  {
   "cell_type": "markdown",
   "metadata": {},
   "source": [
    "# R Based Single Cell (Xena, Seurat)"
   ]
  },
  {
   "cell_type": "markdown",
   "metadata": {},
   "source": [
    "This notebook demonstrates getting data from a functional genomics server (Xena), and preparing those data for analysis in Seurat."
   ]
  },
  {
   "cell_type": "markdown",
   "metadata": {},
   "source": [
    "## Acquiring Data from Xena"
   ]
  },
  {
   "cell_type": "markdown",
   "metadata": {},
   "source": [
    "Xena provides an HTTP interface that accepts AST in a lisp-like syntax. Also included are some domain specific language (DSL) functions for working with functional genomics data, as well as an SQL interface."
   ]
  },
  {
   "cell_type": "markdown",
   "metadata": {},
   "source": [
    "Providing named client functions makes working with these data easier, however, for demonstration we will show how you can use the Xena query interface execute an arbitrary query."
   ]
  },
  {
   "cell_type": "code",
   "execution_count": 56,
   "metadata": {
    "collapsed": true
   },
   "outputs": [],
   "source": [
    "# A library for sending/receiving HTTP requests\n",
    "library('httr')\n",
    "\n",
    "# The URL for the xena data we are after\n",
    "hub_url <- \"https://toil.xenahubs.net/data/\"\n",
    "\n",
    "# A simple query, should return 2\n",
    "query <- \"(+ 1 1)\""
   ]
  },
  {
   "cell_type": "code",
   "execution_count": 57,
   "metadata": {
    "collapsed": false,
    "scrolled": true
   },
   "outputs": [
    {
     "data": {
      "text/html": [
       "2"
      ],
      "text/latex": [
       "2"
      ],
      "text/markdown": [
       "2"
      ],
      "text/plain": [
       "[1] 2"
      ]
     },
     "metadata": {},
     "output_type": "display_data"
    }
   ],
   "source": [
    "response <- POST(hub_url, body = query, content_type = \"text/plain\")\n",
    "content(response)"
   ]
  },
  {
   "cell_type": "markdown",
   "metadata": {},
   "source": [
    "### Writing Xena Queries"
   ]
  },
  {
   "cell_type": "markdown",
   "metadata": {},
   "source": [
    "The Xena data model can be accessed using a lisp-like DSL. When creating a Seurat analysis, we will need a list of samples, genes, and the expressions between them.\n",
    "\n",
    "We can also get a list of gene-names to gene-identifiers to make reading our results easier."
   ]
  },
  {
   "cell_type": "code",
   "execution_count": 179,
   "metadata": {
    "collapsed": false
   },
   "outputs": [],
   "source": [
    "# This library allows one to perform nice string templating\n",
    "library(gsubfn)\n",
    "\n",
    "# A named dataset that contains gene-wise expression counts\n",
    "dataset <- \"tcga_RSEM_Hugo_norm_count\""
   ]
  },
  {
   "cell_type": "markdown",
   "metadata": {
    "collapsed": true
   },
   "source": [
    "#### Query templates"
   ]
  },
  {
   "cell_type": "markdown",
   "metadata": {},
   "source": [
    "Each of these literals are a query template. Backticks are used to create logical scope for interpolating strings.\n",
    "\n",
    "These queries will be used below to get our data. In the future, these functions could be accessed by named methods of a Xena client, as in the python client."
   ]
  },
  {
   "cell_type": "code",
   "execution_count": 59,
   "metadata": {
    "collapsed": false
   },
   "outputs": [],
   "source": [
    "cohort_template <- '(map :cohort (query {:select [:%distinct.cohort]\n",
    "                     :from [:dataset]\n",
    "                     :where [:not [:is nil :cohort]]}))'"
   ]
  },
  {
   "cell_type": "code",
   "execution_count": 220,
   "metadata": {
    "collapsed": false
   },
   "outputs": [],
   "source": [
    "# fetch_template <- '(let [probemap (:probemap (car (query {:select [:probemap]\n",
    "#                                                   :from [:dataset]\n",
    "#                                                   :where [:= :name \"`dataset`\"]})))\n",
    "#                  probes ((xena-query {:select [\"name\"] :from [probemap] :where [:in :any \"genes\" [\"`paste(features_query, collapse = \\'\", \"\\')`\"]]}) \"name\")]\n",
    "#              [probes\n",
    "#                (fetch [{:table \"`dataset`\"\n",
    "#                         :samples [\"`paste(samples_query, collapse = \\'\", \"\\')`\"]\n",
    "#                         :columns probes}])])'\n",
    "fetch_template <- '(fetch [{:table \"`dataset`\"\n",
    "                               :samples [\"`paste(samples_query, collapse = \\'\", \"\\')`\"]\n",
    "                               :columns [\"`paste(features_query, collapse = \\'\", \"\\')`\"]}])])'"
   ]
  },
  {
   "cell_type": "code",
   "execution_count": 195,
   "metadata": {
    "collapsed": true
   },
   "outputs": [],
   "source": [
    "probemap_template <- '(:probemap (car (query {:select [:probemap]\n",
    "                                      :from [:dataset]\n",
    "                                      :where [:= :name \"`dataset`\"]})))'"
   ]
  },
  {
   "cell_type": "code",
   "execution_count": 176,
   "metadata": {
    "collapsed": true
   },
   "outputs": [],
   "source": [
    "samples_template <- '(map :value (query {:select [:value]\n",
    "            :from [:dataset]\n",
    "            :join [:field [:= :dataset.id :dataset_id]\n",
    "            :code [:= :field.id :field_id]]\n",
    "            :where [:and\n",
    "            [:= :dataset.name \"`dataset`\"]\n",
    "            [:= :field.name \"sampleID\"]]}))'"
   ]
  },
  {
   "cell_type": "code",
   "execution_count": 160,
   "metadata": {
    "collapsed": true
   },
   "outputs": [],
   "source": [
    "features_template <- '(map :name (query {:select [:field.name]\n",
    "             :from [:dataset]\n",
    "             :join [:field [:= :dataset.id :dataset_id]]\n",
    "             :where [:= :dataset.name \"`dataset`\"]}))'"
   ]
  },
  {
   "cell_type": "markdown",
   "metadata": {},
   "source": [
    "### Getting Data"
   ]
  },
  {
   "cell_type": "markdown",
   "metadata": {},
   "source": [
    "#### Getting Features\n",
    "First, we'll get the list of featurees for the dataset. We'll print out the query that will be sent to Xena (including newline characters)."
   ]
  },
  {
   "cell_type": "code",
   "execution_count": 180,
   "metadata": {
    "collapsed": false
   },
   "outputs": [
    {
     "data": {
      "text/html": [
       "<span style=white-space:pre-wrap>'(map :name (query {:select [:field.name]\\n             :from [:dataset]\\n             :join [:field [:= :dataset.id :dataset_id]]\\n             :where [:= :dataset.name \"tcga_RSEM_Hugo_norm_count\"]}))'</span>"
      ],
      "text/latex": [
       "'(map :name (query \\{:select {[}:field.name{]}\\textbackslash{}n             :from {[}:dataset{]}\\textbackslash{}n             :join {[}:field {[}:= :dataset.id :dataset\\_id{]}{]}\\textbackslash{}n             :where {[}:= :dataset.name \"tcga\\_RSEM\\_Hugo\\_norm\\_count\"{]}\\}))'"
      ],
      "text/markdown": [
       "<span style=white-space:pre-wrap>'(map :name (query {:select [:field.name]\\n             :from [:dataset]\\n             :join [:field [:= :dataset.id :dataset_id]]\\n             :where [:= :dataset.name \"tcga_RSEM_Hugo_norm_count\"]}))'</span>"
      ],
      "text/plain": [
       "[1] \"(map :name (query {:select [:field.name]\\n             :from [:dataset]\\n             :join [:field [:= :dataset.id :dataset_id]]\\n             :where [:= :dataset.name \\\"tcga_RSEM_Hugo_norm_count\\\"]}))\""
      ]
     },
     "metadata": {},
     "output_type": "display_data"
    }
   ],
   "source": [
    "query <- fn$identity(features_template)\n",
    "query"
   ]
  },
  {
   "cell_type": "markdown",
   "metadata": {},
   "source": [
    "*Note that we have interpolated in the dataset name to constrain our search.*"
   ]
  },
  {
   "cell_type": "code",
   "execution_count": 181,
   "metadata": {
    "collapsed": true
   },
   "outputs": [],
   "source": [
    "response <- POST(hub_url, body = query, content_type = \"text/plain\")"
   ]
  },
  {
   "cell_type": "markdown",
   "metadata": {},
   "source": [
    "We can look at the response attributes expecting a Status 200 with some size that seems reasonable for the number of expected samples."
   ]
  },
  {
   "cell_type": "code",
   "execution_count": 182,
   "metadata": {
    "collapsed": false
   },
   "outputs": [
    {
     "data": {
      "text/plain": [
       "Response [https://toil.xenahubs.net/data/]\n",
       "  Date: 2017-05-10 21:44\n",
       "  Status: 200\n",
       "  Content-Type: application/json;charset=UTF-8\n",
       "  Size: 682 kB\n"
      ]
     },
     "metadata": {},
     "output_type": "display_data"
    }
   ],
   "source": [
    "response\n",
    "features = content(response)"
   ]
  },
  {
   "cell_type": "code",
   "execution_count": 183,
   "metadata": {
    "collapsed": false
   },
   "outputs": [
    {
     "data": {
      "text/html": [
       "<ol>\n",
       "\t<li>'5S_rRNA'</li>\n",
       "\t<li>'5_8S_rRNA'</li>\n",
       "\t<li>'7SK'</li>\n",
       "\t<li>'A1BG'</li>\n",
       "\t<li>'A1BG-AS1'</li>\n",
       "\t<li>'A1CF'</li>\n",
       "\t<li>'A2M'</li>\n",
       "\t<li>'A2M-AS1'</li>\n",
       "\t<li>'A2ML1'</li>\n",
       "\t<li>'A2ML1-AS1'</li>\n",
       "</ol>\n"
      ],
      "text/latex": [
       "\\begin{enumerate}\n",
       "\\item '5S\\_rRNA'\n",
       "\\item '5\\_8S\\_rRNA'\n",
       "\\item '7SK'\n",
       "\\item 'A1BG'\n",
       "\\item 'A1BG-AS1'\n",
       "\\item 'A1CF'\n",
       "\\item 'A2M'\n",
       "\\item 'A2M-AS1'\n",
       "\\item 'A2ML1'\n",
       "\\item 'A2ML1-AS1'\n",
       "\\end{enumerate}\n"
      ],
      "text/markdown": [
       "1. '5S_rRNA'\n",
       "2. '5_8S_rRNA'\n",
       "3. '7SK'\n",
       "4. 'A1BG'\n",
       "5. 'A1BG-AS1'\n",
       "6. 'A1CF'\n",
       "7. 'A2M'\n",
       "8. 'A2M-AS1'\n",
       "9. 'A2ML1'\n",
       "10. 'A2ML1-AS1'\n",
       "\n",
       "\n"
      ],
      "text/plain": [
       "[[1]]\n",
       "[1] \"5S_rRNA\"\n",
       "\n",
       "[[2]]\n",
       "[1] \"5_8S_rRNA\"\n",
       "\n",
       "[[3]]\n",
       "[1] \"7SK\"\n",
       "\n",
       "[[4]]\n",
       "[1] \"A1BG\"\n",
       "\n",
       "[[5]]\n",
       "[1] \"A1BG-AS1\"\n",
       "\n",
       "[[6]]\n",
       "[1] \"A1CF\"\n",
       "\n",
       "[[7]]\n",
       "[1] \"A2M\"\n",
       "\n",
       "[[8]]\n",
       "[1] \"A2M-AS1\"\n",
       "\n",
       "[[9]]\n",
       "[1] \"A2ML1\"\n",
       "\n",
       "[[10]]\n",
       "[1] \"A2ML1-AS1\"\n"
      ]
     },
     "metadata": {},
     "output_type": "display_data"
    }
   ],
   "source": [
    "# Print out some of the features\n",
    "features_table <- matrix(features, length(features))\n",
    "features_table[0:10]"
   ]
  },
  {
   "cell_type": "markdown",
   "metadata": {},
   "source": [
    "We then write the table to file so that it can be used by Seurat (and others). "
   ]
  },
  {
   "cell_type": "code",
   "execution_count": 184,
   "metadata": {
    "collapsed": false
   },
   "outputs": [],
   "source": [
    "write.table(features_table, 'genes.tsv', sep = '\\t', append=F, quote=F, col.names=F, row.names=F)"
   ]
  },
  {
   "cell_type": "markdown",
   "metadata": {},
   "source": [
    "#### Getting Samples\n",
    "\n",
    "Now we will query the server for the available samples in the dataset."
   ]
  },
  {
   "cell_type": "code",
   "execution_count": 185,
   "metadata": {
    "collapsed": false
   },
   "outputs": [
    {
     "data": {
      "text/html": [
       "<span style=white-space:pre-wrap>'(map :value (query {:select [:value]\\n            :from [:dataset]\\n            :join [:field [:= :dataset.id :dataset_id]\\n            :code [:= :field.id :field_id]]\\n            :where [:and\\n            [:= :dataset.name \"tcga_RSEM_Hugo_norm_count\"]\\n            [:= :field.name \"sampleID\"]]}))'</span>"
      ],
      "text/latex": [
       "'(map :value (query \\{:select {[}:value{]}\\textbackslash{}n            :from {[}:dataset{]}\\textbackslash{}n            :join {[}:field {[}:= :dataset.id :dataset\\_id{]}\\textbackslash{}n            :code {[}:= :field.id :field\\_id{]}{]}\\textbackslash{}n            :where {[}:and\\textbackslash{}n            {[}:= :dataset.name \"tcga\\_RSEM\\_Hugo\\_norm\\_count\"{]}\\textbackslash{}n            {[}:= :field.name \"sampleID\"{]}{]}\\}))'"
      ],
      "text/markdown": [
       "<span style=white-space:pre-wrap>'(map :value (query {:select [:value]\\n            :from [:dataset]\\n            :join [:field [:= :dataset.id :dataset_id]\\n            :code [:= :field.id :field_id]]\\n            :where [:and\\n            [:= :dataset.name \"tcga_RSEM_Hugo_norm_count\"]\\n            [:= :field.name \"sampleID\"]]}))'</span>"
      ],
      "text/plain": [
       "[1] \"(map :value (query {:select [:value]\\n            :from [:dataset]\\n            :join [:field [:= :dataset.id :dataset_id]\\n            :code [:= :field.id :field_id]]\\n            :where [:and\\n            [:= :dataset.name \\\"tcga_RSEM_Hugo_norm_count\\\"]\\n            [:= :field.name \\\"sampleID\\\"]]}))\""
      ]
     },
     "metadata": {},
     "output_type": "display_data"
    },
    {
     "data": {
      "text/plain": [
       "Response [https://toil.xenahubs.net/data/]\n",
       "  Date: 2017-05-10 21:44\n",
       "  Status: 200\n",
       "  Content-Type: application/json;charset=UTF-8\n",
       "  Size: 190 kB\n"
      ]
     },
     "metadata": {},
     "output_type": "display_data"
    },
    {
     "data": {
      "text/html": [
       "<ol>\n",
       "\t<li>'TCGA-OR-A5JX-01'</li>\n",
       "\t<li>'TCGA-HV-A5A5-01'</li>\n",
       "\t<li>'TCGA-MQ-A4LP-01'</li>\n",
       "\t<li>'TCGA-FD-A3N5-01'</li>\n",
       "\t<li>'TCGA-EP-A2KC-01'</li>\n",
       "\t<li>'TCGA-BH-A1F0-11'</li>\n",
       "\t<li>'TCGA-A8-A079-01'</li>\n",
       "\t<li>'TCGA-EL-A4JZ-01'</li>\n",
       "\t<li>'TCGA-LH-A9QB-06'</li>\n",
       "\t<li>'TCGA-DK-A2I2-01'</li>\n",
       "</ol>\n"
      ],
      "text/latex": [
       "\\begin{enumerate}\n",
       "\\item 'TCGA-OR-A5JX-01'\n",
       "\\item 'TCGA-HV-A5A5-01'\n",
       "\\item 'TCGA-MQ-A4LP-01'\n",
       "\\item 'TCGA-FD-A3N5-01'\n",
       "\\item 'TCGA-EP-A2KC-01'\n",
       "\\item 'TCGA-BH-A1F0-11'\n",
       "\\item 'TCGA-A8-A079-01'\n",
       "\\item 'TCGA-EL-A4JZ-01'\n",
       "\\item 'TCGA-LH-A9QB-06'\n",
       "\\item 'TCGA-DK-A2I2-01'\n",
       "\\end{enumerate}\n"
      ],
      "text/markdown": [
       "1. 'TCGA-OR-A5JX-01'\n",
       "2. 'TCGA-HV-A5A5-01'\n",
       "3. 'TCGA-MQ-A4LP-01'\n",
       "4. 'TCGA-FD-A3N5-01'\n",
       "5. 'TCGA-EP-A2KC-01'\n",
       "6. 'TCGA-BH-A1F0-11'\n",
       "7. 'TCGA-A8-A079-01'\n",
       "8. 'TCGA-EL-A4JZ-01'\n",
       "9. 'TCGA-LH-A9QB-06'\n",
       "10. 'TCGA-DK-A2I2-01'\n",
       "\n",
       "\n"
      ],
      "text/plain": [
       "[[1]]\n",
       "[1] \"TCGA-OR-A5JX-01\"\n",
       "\n",
       "[[2]]\n",
       "[1] \"TCGA-HV-A5A5-01\"\n",
       "\n",
       "[[3]]\n",
       "[1] \"TCGA-MQ-A4LP-01\"\n",
       "\n",
       "[[4]]\n",
       "[1] \"TCGA-FD-A3N5-01\"\n",
       "\n",
       "[[5]]\n",
       "[1] \"TCGA-EP-A2KC-01\"\n",
       "\n",
       "[[6]]\n",
       "[1] \"TCGA-BH-A1F0-11\"\n",
       "\n",
       "[[7]]\n",
       "[1] \"TCGA-A8-A079-01\"\n",
       "\n",
       "[[8]]\n",
       "[1] \"TCGA-EL-A4JZ-01\"\n",
       "\n",
       "[[9]]\n",
       "[1] \"TCGA-LH-A9QB-06\"\n",
       "\n",
       "[[10]]\n",
       "[1] \"TCGA-DK-A2I2-01\"\n"
      ]
     },
     "metadata": {},
     "output_type": "display_data"
    }
   ],
   "source": [
    "query <- fn$identity(samples_template)\n",
    "query\n",
    "response <- POST(hub_url, body = query, content_type = \"text/plain\")\n",
    "response\n",
    "samples = content(response)\n",
    "samples_table = matrix(samples, length(samples))\n",
    "samples_table[0:10]"
   ]
  },
  {
   "cell_type": "markdown",
   "metadata": {},
   "source": [
    "And then write the table to file in a similar fashion to the gene list."
   ]
  },
  {
   "cell_type": "code",
   "execution_count": 186,
   "metadata": {
    "collapsed": true
   },
   "outputs": [],
   "source": [
    "write.table(samples_table, 'barcodes.tsv', sep = '\\t', append=F, quote=F, col.names=F, row.names=F)"
   ]
  },
  {
   "cell_type": "markdown",
   "metadata": {},
   "source": [
    "#### Getting Expression Data\n",
    "\n",
    "Now that we have the list of samples and genes quantified, we can select all, or a subset of the samples from Xena."
   ]
  },
  {
   "cell_type": "code",
   "execution_count": 221,
   "metadata": {
    "collapsed": false
   },
   "outputs": [
    {
     "data": {
      "text/html": [
       "<span style=white-space:pre-wrap>'(fetch [{:table \"tcga_RSEM_Hugo_norm_count\"\\n                               :samples [\"TCGA-OR-A5JX-01\", \"TCGA-HV-A5A5-01\", \"TCGA-MQ-A4LP-01\", \"TCGA-FD-A3N5-01\", \"TCGA-EP-A2KC-01\", \"TCGA-BH-A1F0-11\", \"TCGA-A8-A079-01\", \"TCGA-EL-A4JZ-01\", \"TCGA-LH-A9QB-06\", \"TCGA-DK-A2I2-01\"]\\n                               :columns [\"CCDC157\", \"CCDC158\", \"CCDC159\", \"CCDC160\", \"CCDC162P\", \"CCDC163P\", \"CCDC166\", \"CCDC167\", \"CCDC168\", \"CCDC169\", \"CCDC169-SOHLH2\", \"CCDC17\", \"CCDC170\", \"CCDC171\", \"CCDC172\", \"CCDC173\", \"CCDC174\", \"CCDC175\", \"CCDC176\", \"CCDC177\", \"CCDC178\", \"CCDC179\", \"CCDC18\", \"CCDC180\", \"CCDC181\", \"CCDC182\", \"CCDC183\", \"CCDC183-AS1\", \"CCDC184\", \"CCDC185\", \"CCDC186\", \"CCDC22\", \"CCDC23\", \"CCDC24\", \"CCDC25\", \"CCDC26\", \"CCDC27\", \"CCDC28A\", \"CCDC28B\", \"CCDC3\", \"CCDC30\", \"CCDC33\", \"CCDC34\", \"CCDC34P1\", \"CCDC36\", \"CCDC37\", \"CCDC37-AS1\", \"CCDC38\", \"CCDC39\", \"CCDC39-AS1\", \"CCDC40\", \"CCDC42\", \"CCDC42B\", \"CCDC43\", \"CCDC47\", \"CCDC50\", \"CCDC51\", \"CCDC53\", \"CCDC54\", \"CCDC57\", \"CCDC58\", \"CCDC58P1\", \"CCDC58P2\", \"CCDC58P3\", \"CCDC58P5\", \"CCDC59\", \"CCDC6\", \"CCDC60\", \"CCDC61\", \"CCDC62\", \"CCDC63\", \"CCDC64\", \"CCDC64B\", \"CCDC65\", \"CCDC66\", \"CCDC67\", \"CCDC68\", \"CCDC69\", \"CCDC7\", \"CCDC70\", \"CCDC71\", \"CCDC71L\", \"CCDC73\", \"CCDC74A\", \"CCDC74B\", \"CCDC75P1\", \"CCDC77\", \"CCDC78\", \"CCDC79\", \"CCDC8\", \"CCDC80\", \"CCDC81\", \"CCDC82\", \"CCDC83\", \"CCDC84\", \"CCDC85A\", \"CCDC85B\", \"CCDC85C\", \"CCDC86\", \"CCDC87\", \"CCDC88A\", \"CCDC88B\", \"CCDC88C\", \"CCDC89\", \"CCDC9\", \"CCDC90B\", \"CCDC91\", \"CCDC92\", \"CCDC93\", \"CCDC94\", \"CCDC96\", \"CCDC97\", \"CCER1\", \"CCER2\", \"CCHCR1\", \"CCIN\", \"CCK\", \"CCKAR\", \"CCKBR\", \"CCL1\", \"CCL11\", \"CCL13\", \"CCL14\", \"CCL15\", \"CCL15-CCL14\", \"CCL16\", \"CCL17\", \"CCL18\", \"CCL19\", \"CCL2\", \"CCL20\", \"CCL21\", \"CCL22\", \"CCL23\", \"CCL24\", \"CCL25\", \"CCL26\", \"CCL27\", \"CCL28\", \"CCL3\", \"CCL3L3\", \"CCL4\", \"CCL4L2\", \"CCL5\", \"CCL7\", \"CCL8\", \"CCM2\", \"CCM2L\", \"CCNA1\", \"CCNA2\", \"CCNB1\", \"CCNB1IP1\", \"CCNB1IP1P1\", \"CCNB1IP1P2\", \"CCNB1IP1P3\", \"CCNB2\", \"CCNB2P1\", \"CCNB3\", \"CCNB3P1\", \"CCNC\", \"CCND1\", \"CCND2\", \"CCND2-AS1\", \"CCND2-AS2\", \"CCND2P1\", \"CCND3\", \"CCND3P1\", \"CCND3P2\", \"CCNDBP1\", \"CCNE1\", \"CCNE2\", \"CCNF\", \"CCNG1\", \"CCNG1P1\", \"CCNG2\", \"CCNG2P1\", \"CCNH\", \"CCNHP1\", \"CCNI\", \"CCNI2\", \"CCNJ\", \"CCNJL\", \"CCNJP1\", \"CCNJP2\", \"CCNK\", \"CCNL1\", \"CCNL2\", \"CCNL2P1\", \"CCNO\", \"CCNT1\", \"CCNT2\", \"CCNT2-AS1\", \"CCNT2P1\", \"CCNY\", \"CCNYL1\", \"CCNYL2\", \"CCNYL3\", \"CCP110\", \"CCPG1\", \"CCR1\", \"CCR10\", \"CCR12P\", \"CCR2\", \"CCR3\", \"CCR4\", \"CCR5\", \"CCR6\", \"CCR7\", \"CCR8\", \"CCR9\", \"CCRL2\", \"CCRN4L\", \"CCS\", \"CCSAP\", \"CCSER1\", \"CCSER2\", \"CCT2\", \"CCT3\", \"CCT4\", \"CCT4P1\", \"CCT4P2\", \"CCT5\", \"CCT5P1\", \"CCT5P2\", \"CCT6A\", \"CCT6B\", \"CCT6P1\", \"CCT6P2\", \"CCT6P3\", \"CCT6P4\", \"CCT7\", \"CCT7P1\", \"CCT7P2\", \"CCT8\", \"CCT8L1P\", \"CCT8L2\", \"CCT8P1\", \"CCZ1\", \"CCZ1B\", \"CD101\", \"CD109\", \"CD14\", \"CD151\", \"CD160\", \"CD163\", \"CD163L1\", \"CD164\", \"CD164L2\", \"CD177\", \"CD177P1\", \"CD180\", \"CD19\", \"CD1A\", \"CD1B\", \"CD1C\", \"CD1D\", \"CD1E\", \"CD2\", \"CD200\", \"CD200R1\", \"CD200R1L\", \"CD207\", \"CD209\", \"CD22\", \"CD226\", \"CD24\", \"CD244\", \"CD247\", \"CD248\", \"CD24P2\", \"CD24P4\", \"CD27\", \"CD27-AS1\", \"CD274\", \"CD276\", \"CD28\", \"CD2AP\", \"CD2BP2\", \"CD300A\", \"CD300C\", \"CD300E\", \"CD300LB\", \"CD300LD\", \"CD300LF\", \"CD300LG\", \"CD302\", \"CD320\", \"CD33\", \"CD34\", \"CD36\", \"CD37\", \"CD38\", \"CD3D\", \"CD3E\", \"CD3EAP\", \"CD3G\", \"CD4\", \"CD40\", \"CD40LG\", \"CD44\", \"CD46\", \"CD46P1\", \"CD47\", \"CD48\", \"CD5\", \"CD52\", \"CD53\", \"CD55\", \"CD58\", \"CD59\", \"CD5L\", \"CD6\", \"CD63\", \"CD68\", \"CD69\", \"CD7\", \"CD70\", \"CD72\", \"CD74\", \"CD79A\", \"CD79B\", \"CD80\", \"CD81\", \"CD81-AS1\", \"CD82\", \"CD83\", \"CD84\", \"CD86\", \"CD8A\", \"CD8B\", \"CD8BP\", \"CD9\", \"CD93\", \"CD96\", \"CD99\", \"CD99L2\", \"CD99P1\", \"CDA\", \"CDADC1\", \"CDAN1\", \"CDC123\", \"CDC14A\", \"CDC14B\", \"CDC14C\", \"CDC16\", \"CDC20\", \"CDC20B\", \"CDC20P1\", \"CDC23\", \"CDC25A\", \"CDC25B\", \"CDC25C\", \"CDC26\", \"CDC27\", \"CDC27P1\", \"CDC27P2\", \"CDC34\", \"CDC37\", \"CDC37L1\", \"CDC37L1-AS1\", \"CDC37P1\", \"CDC40\", \"CDC42\", \"CDC42-IT1\", \"CDC42BPA\", \"CDC42BPB\", \"CDC42BPG\", \"CDC42EP1\", \"CDC42EP2\", \"CDC42EP3\", \"CDC42EP3P1\", \"CDC42EP4\", \"CDC42EP5\", \"CDC42P1\", \"CDC42P2\", \"CDC42P3\", \"CDC42P4\", \"CDC42P5\", \"CDC42P6\", \"CDC42SE1\", \"CDC42SE2\", \"CDC45\", \"CDC5L\", \"CDC6\", \"CDC7\", \"CDC73\", \"CDCA2\", \"CDCA3\", \"CDCA4\", \"CDCA4P1\", \"CDCA4P2\", \"CDCA4P3\", \"CDCA4P4\", \"CDCA5\", \"CDCA7\", \"CDCA7L\", \"CDCA8\", \"CDCP1\", \"CDCP2\", \"CDH1\", \"CDH10\", \"CDH11\", \"CDH12\", \"CDH12P1\", \"CDH12P2\", \"CDH12P3\", \"CDH12P4\", \"CDH13\", \"CDH15\", \"CDH16\", \"CDH17\", \"CDH18\", \"CDH19\", \"CDH2\", \"CDH20\", \"CDH22\", \"CDH23\", \"CDH23-AS1\", \"CDH24\", \"CDH26\", \"CDH3\", \"CDH4\", \"CDH5\", \"CDH6\", \"CDH7\", \"CDH8\", \"CDH9\", \"CDHR1\", \"CDHR2\", \"CDHR3\", \"CDHR4\", \"CDHR5\", \"CDIP1\", \"CDIPT\", \"CDIPT-AS1\", \"CDK1\", \"CDK10\", \"CDK11A\", \"CDK11B\", \"CDK12\", \"CDK13\", \"CDK14\", \"CDK15\", \"CDK16\", \"CDK17\", \"CDK18\", \"CDK19\", \"CDK2\", \"CDK20\", \"CDK2AP1\", \"CDK2AP2\", \"CDK2AP2P1\", \"CDK2AP2P2\", \"CDK2AP2P3\", \"CDK3\", \"CDK4\", \"CDK5\", \"CDK5PS\", \"CDK5R1\", \"CDK5R2\", \"CDK5RAP1\", \"CDK5RAP2\", \"CDK5RAP3\", \"CDK6\", \"CDK7\", \"CDK8\", \"CDK9\", \"CDKAL1\", \"CDKL1\", \"CDKL2\", \"CDKL3\", \"CDKL4\", \"CDKL5\", \"CDKN1A\", \"CDKN1B\", \"CDKN1C\", \"CDKN2A\", \"CDKN2A-AS1\", \"CDKN2AIP\", \"CDKN2AIPNL\", \"CDKN2AIPNLP1\", \"CDKN2AIPNLP2\", \"CDKN2AIPNLP3\", \"CDKN2B\", \"CDKN2B-AS\", \"CDKN2B-AS1\", \"CDKN2B-AS_3\", \"CDKN2C\", \"CDKN2D\", \"CDKN3\", \"CDNF\", \"CDO1\", \"CDON\", \"CDPF1\", \"CDR1\", \"CDR1-AS\", \"CDR2\", \"CDR2L\", \"CDRT1\", \"CDRT15\", \"CDRT15L2\", \"CDRT15P1\", \"CDRT15P2\", \"CDRT4\", \"CDRT7\", \"CDRT8\", \"CDS1\", \"CDS2\", \"CDSN\", \"CDT1\", \"CDV3\", \"CDV3P1\", \"CDX1\", \"CDX2\", \"CDX4\", \"CDY1\", \"CDY10P\", \"CDY11P\", \"CDY12P\", \"CDY13P\", \"CDY14P\", \"CDY15P\", \"CDY17P\", \"CDY18P\", \"CDY19P\", \"CDY1B\", \"CDY20P\", \"CDY22P\", \"CDY23P\", \"CDY2A\", \"CDY2B\", \"CDY3P\", \"CDY4P\", \"CDY5P\", \"CDY6P\", \"CDY7P\", \"CDY8P\", \"CDY9P\", \"CDYL\", \"CDYL2\", \"CEACAM1\", \"CEACAM16\", \"CEACAM18\", \"CEACAM19\", \"CEACAM20\", \"CEACAM21\", \"CEACAM22P\", \"CEACAM3\", \"CEACAM4\", \"CEACAM5\", \"CEACAM6\", \"CEACAM7\", \"CEACAM8\", \"CEACAMP1\", \"CEACAMP10\", \"CEACAMP11\", \"CEACAMP2\", \"CEACAMP3\", \"CEACAMP4\", \"CEACAMP5\", \"CEACAMP6\", \"CEACAMP7\", \"CEACAMP8\", \"CEACAMP9\", \"CEBPA\", \"CEBPA-AS1\", \"CEBPB\", \"CEBPB-AS1\", \"CEBPD\", \"CEBPE\", \"CEBPG\", \"CEBPZ\", \"CEBPZOS\", \"CECR1\", \"CECR2\", \"CECR3\", \"CECR5\", \"CECR5-AS1\", \"CECR6\", \"CECR7\", \"CECR9\", \"CEL\", \"CELA1\", \"CELA2A\", \"CELA2B\", \"CELA3A\", \"CELA3B\", \"CELF1\", \"CELF2\", \"CELF2-AS1\", \"CELF2-AS2\", \"CELF3\", \"CELF4\", \"CELF5\", \"CELF6\", \"CELP\", \"CELSR1\", \"CELSR2\", \"CELSR3\", \"CELSR3-AS1\", \"CEMIP\", \"CEMP1\", \"CEND1\", \"CEND1P1\", \"CENPA\", \"CENPB\", \"CENPBD1\", \"CENPBD1P1\", \"CENPC\", \"CENPCP1\", \"CENPE\", \"CENPF\", \"CENPH\", \"CENPI\", \"CENPIP1\", \"CENPJ\", \"CENPK\", \"CENPL\", \"CENPM\", \"CENPN\", \"CENPO\", \"CENPP\", \"CENPQ\", \"CENPT\", \"CENPU\", \"CENPUP1\", \"CENPUP2\", \"CENPV\", \"CENPVP1\", \"CENPVP3\", \"CENPW\", \"CEP104\", \"CEP112\", \"CEP120\", \"CEP126\", \"CEP128\", \"CEP131\", \"CEP135\", \"CEP152\", \"CEP162\", \"CEP164\", \"CEP164P1\", \"CEP170\", \"CEP170B\", \"CEP170P1\", \"CEP19\", \"CEP192\", \"CEP250\", \"CEP290\", \"CEP295\", \"CEP295NL\", \"CEP350\", \"CEP41\", \"CEP44\", \"CEP55\", \"CEP57\", \"CEP57L1\", \"CEP57L1P1\", \"CEP63\", \"CEP68\", \"CEP70\", \"CEP72\", \"CEP76\", \"CEP78\", \"CEP83\", \"CEP83-AS1\", \"CEP85\", \"CEP85L\", \"CEP89\", \"CEP95\", \"CEP97\", \"CEPT1\", \"CER1\", \"CERCAM\", \"CERK\", \"CERKL\", \"CERS1\", \"CERS2\", \"CERS3\", \"CERS3-AS1\", \"CERS4\", \"CERS5\", \"CERS6\", \"CERS6-AS1\", \"CES1\", \"CES1P1\", \"CES1P2\", \"CES2\", \"CES3\", \"CES4A\", \"CES5A\", \"CES5AP1\", \"CETN1\", \"CETN2\", \"CETN3\", \"CETN4P\", \"CETP\", \"CFAP126\", \"CFAP20\", \"CFAP221\", \"CFAP36\", \"CFAP43\", \"CFAP44\", \"CFAP44-AS1\", \"CFAP45\", \"CFAP46\", \"CFAP47\", \"CFAP52\", \"CFAP53\", \"CFAP54\", \"CFAP57\", \"CFAP58\", \"CFAP58-AS1\", \"CFAP61\", \"CFAP69\", \"CFAP70\", \"CFAP74\", \"CFAP97\", \"CFAP99\", \"CFB\", \"CFC1\", \"CFC1B\", \"CFD\", \"CFDP1\", \"CFH\", \"CFHR1\", \"CFHR2\", \"CFHR3\", \"CFHR4\", \"CFHR5\", \"CFI\", \"CFL1\", \"CFL1P1\", \"CFL1P2\", \"CFL1P3\", \"CFL1P4\", \"CFL1P5\", \"CFL1P6\", \"CFL1P7\", \"CFL1P8\", \"CFL2\", \"CFLAR\", \"CFLAR-AS1\", \"CFP\", \"CFTR\", \"CFTRP1\", \"CFTRP3\", \"CGA\", \"CGB\", \"CGB1\", \"CGB2\", \"CGB5\", \"CGB7\", \"CGB8\", \"CGGBP1\", \"CGN\", \"CGNL1\", \"CGREF1\", \"CGRRF1\", \"CH17-118O6.3\", \"CH17-118O6.4\", \"CH17-125A10.1\", \"CH17-125A10.2\", \"CH17-128G5.1\", \"CH17-12M21.1\", \"CH17-132F21.4\", \"CH17-132F21.5\", \"CH17-13I23.1\", \"CH17-13I23.2\", \"CH17-13I23.3\", \"CH17-140K24.1\", \"CH17-140K24.2\", \"CH17-140K24.3\", \"CH17-140K24.4\", \"CH17-140K24.5\", \"CH17-140K24.6\", \"CH17-140K24.7\", \"CH17-140K24.8\", \"CH17-164J11.1\", \"CH17-174L20.1\", \"CH17-189H20.1\", \"CH17-212P11.4\", \"CH17-212P11.5\", \"CH17-212P11.6\", \"CH17-219N22.1\", \"CH17-224D4.1\", \"CH17-224D4.2\", \"CH17-232I21.1\", \"CH17-248H7.2\", \"CH17-248H7.3\", \"CH17-258A22.4\", \"CH17-260O16.1\", \"CH17-262A2.1\", \"CH17-262H11.1\", \"CH17-262O2.1\", \"CH17-262O2.2\", \"CH17-264B6.3\", \"CH17-264B6.4\", \"CH17-264L24.1\", \"CH17-270A2.1\", \"CH17-270A2.2\", \"CH17-302M23.1\", \"CH17-31A6.1\", \"CH17-333M13.1\", \"CH17-333M13.2\", \"CH17-335B8.4\", \"CH17-340M24.3\", \"CH17-351M24.1\", \"CH17-353B19.1\", \"CH17-360D5.1\", \"CH17-360D5.2\", \"CH17-360D5.3\", \"CH17-373J23.1\", \"CH17-385C13.2\", \"CH17-38B12.4\", \"CH17-408M7.1\", \"CH17-409J4.2\", \"CH17-431G21.1\", \"CH17-437K3.1\", \"CH17-472G23.1\", \"CH17-472G23.2\", \"CH17-472G23.4\", \"CH17-478G19.2\", \"CH17-53B9.2\", \"CH17-53B9.4\", \"CH17-76K2.6\", \"CH17-78J1.1\", \"CH17-80A12.1\", \"CH25H\", \"CH507-145C22.1\", \"CH507-145C22.2\", \"CH507-145C22.3\", \"CH507-145C22.4\", \"CH507-152C13.1\", \"CH507-152C13.3\", \"CH507-152C13.4\", \"CH507-152C13.5\", \"CH507-152C13.6\", \"CH507-154B10.1\", \"CH507-154B10.2\", \"CH507-154B10.3\", \"CH507-210P18.1\", \"CH507-210P18.3\", \"CH507-210P18.4\", \"CH507-210P18.5\", \"CH507-216K13.1\", \"CH507-216K13.2\", \"CH507-236L23.1\", \"CH507-236L23.2\", \"CH507-236L23.3\", \"CH507-236L23.4\", \"CH507-236L23.5\", \"CH507-24F1.1\", \"CH507-24F1.2\", \"CH507-254M2.1\", \"CH507-254M2.2\", \"CH507-254M2.3\", \"CH507-254M2.4\", \"CH507-254M2.5\", \"CH507-254M2.6\", \"CH507-338C24.1\", \"CH507-338C24.2\", \"CH507-338C24.3\", \"CH507-396I9.3\", \"CH507-396I9.6\", \"CH507-396I9.7\", \"CH507-39O4.1\", \"CH507-39O4.2\", \"CH507-39O4.3\", \"CH507-42P11.1\", \"CH507-42P11.2\", \"CH507-42P11.3\", \"CH507-42P11.5\", \"CH507-42P11.6\", \"CH507-42P11.7\", \"CH507-42P11.8\", \"CH507-513H4.1\", \"CH507-513H4.3\", \"CH507-513H4.4\", \"CH507-513H4.5\", \"CH507-513H4.6\", \"CH507-528H12.1\", \"CH507-9B2.2\", \"CH507-9B2.3\", \"CH507-9B2.4\", \"CH507-9B2.5\", \"CH507-9B2.8\", \"CH507-9B2.9\", \"CHAC1\", \"CHAC2\", \"CHAD\", \"CHADL\", \"CHAF1A\", \"CHAF1B\", \"CHAMP1\", \"CHAT\", \"CHCHD1\", \"CHCHD10\", \"CHCHD2\", \"CHCHD2P1\", \"CHCHD2P11\", \"CHCHD2P2\", \"CHCHD2P3\", \"CHCHD2P4\", \"CHCHD2P5\", \"CHCHD2P6\", \"CHCHD2P7\", \"CHCHD2P8\", \"CHCHD2P9\", \"CHCHD3\", \"CHCHD3P1\", \"CHCHD3P2\", \"CHCHD3P3\", \"CHCHD4\", \"CHCHD4P2\", \"CHCHD4P3\", \"CHCHD4P4\", \"CHCHD4P5\", \"CHCHD5\", \"CHCHD6\", \"CHCHD7\", \"CHD1\", \"CHD1L\", \"CHD2\", \"CHD3\", \"CHD4\", \"CHD5\", \"CHD6\", \"CHD7\", \"CHD8\", \"CHD9\", \"CHDH\", \"CHEK1\", \"CHEK2\", \"CHEK2P2\", \"CHEK2P3\", \"CHEK2P4\", \"CHEK2P5\", \"CHERP\", \"CHFR\", \"CHGA\", \"CHGB\", \"CHI3L1\", \"CHI3L2\", \"CHIA\", \"CHIAP1\", \"CHIAP2\", \"CHIAP3\", \"CHIC1\", \"CHIC2\", \"CHID1\", \"CHIT1\", \"CHKA\", \"CHKB\", \"CHKB-AS1\", \"CHKB-CPT1B\", \"CHL1\", \"CHL1-AS1\", \"CHL1-AS2\", \"CHM\", \"CHML\", \"CHMP1A\", \"CHMP1AP1\", \"CHMP1B\", \"CHMP1B2P\", \"CHMP2A\", \"CHMP2B\", \"CHMP3\", \"CHMP4A\", \"CHMP4B\", \"CHMP4BP1\", \"CHMP4C\", \"CHMP5\", \"CHMP6\", \"CHMP7\", \"CHN1\", \"CHN2\", \"CHODL\", \"CHODL-AS1\", \"CHORDC1\", \"CHORDC2P\", \"CHP1\", \"CHP2\", \"CHPF\", \"CHPF2\", \"CHPT1\", \"CHRAC1\", \"CHRD\", \"CHRDL1\", \"CHRDL2\", \"CHRFAM7A\", \"CHRM1\", \"CHRM2\", \"CHRM3\", \"CHRM3-AS1\", \"CHRM3-AS2\", \"CHRM4\", \"CHRM5\", \"CHRNA1\", \"CHRNA10\", \"CHRNA2\"]}])])'</span>"
      ],
      "text/latex": [
       "'(fetch {[}\\{:table \"tcga\\_RSEM\\_Hugo\\_norm\\_count\"\\textbackslash{}n                               :samples {[}\"TCGA-OR-A5JX-01\", \"TCGA-HV-A5A5-01\", \"TCGA-MQ-A4LP-01\", \"TCGA-FD-A3N5-01\", \"TCGA-EP-A2KC-01\", \"TCGA-BH-A1F0-11\", \"TCGA-A8-A079-01\", \"TCGA-EL-A4JZ-01\", \"TCGA-LH-A9QB-06\", \"TCGA-DK-A2I2-01\"{]}\\textbackslash{}n                               :columns {[}\"CCDC157\", \"CCDC158\", \"CCDC159\", \"CCDC160\", \"CCDC162P\", \"CCDC163P\", \"CCDC166\", \"CCDC167\", \"CCDC168\", \"CCDC169\", \"CCDC169-SOHLH2\", \"CCDC17\", \"CCDC170\", \"CCDC171\", \"CCDC172\", \"CCDC173\", \"CCDC174\", \"CCDC175\", \"CCDC176\", \"CCDC177\", \"CCDC178\", \"CCDC179\", \"CCDC18\", \"CCDC180\", \"CCDC181\", \"CCDC182\", \"CCDC183\", \"CCDC183-AS1\", \"CCDC184\", \"CCDC185\", \"CCDC186\", \"CCDC22\", \"CCDC23\", \"CCDC24\", \"CCDC25\", \"CCDC26\", \"CCDC27\", \"CCDC28A\", \"CCDC28B\", \"CCDC3\", \"CCDC30\", \"CCDC33\", \"CCDC34\", \"CCDC34P1\", \"CCDC36\", \"CCDC37\", \"CCDC37-AS1\", \"CCDC38\", \"CCDC39\", \"CCDC39-AS1\", \"CCDC40\", \"CCDC42\", \"CCDC42B\", \"CCDC43\", \"CCDC47\", \"CCDC50\", \"CCDC51\", \"CCDC53\", \"CCDC54\", \"CCDC57\", \"CCDC58\", \"CCDC58P1\", \"CCDC58P2\", \"CCDC58P3\", \"CCDC58P5\", \"CCDC59\", \"CCDC6\", \"CCDC60\", \"CCDC61\", \"CCDC62\", \"CCDC63\", \"CCDC64\", \"CCDC64B\", \"CCDC65\", \"CCDC66\", \"CCDC67\", \"CCDC68\", \"CCDC69\", \"CCDC7\", \"CCDC70\", \"CCDC71\", \"CCDC71L\", \"CCDC73\", \"CCDC74A\", \"CCDC74B\", \"CCDC75P1\", \"CCDC77\", \"CCDC78\", \"CCDC79\", \"CCDC8\", \"CCDC80\", \"CCDC81\", \"CCDC82\", \"CCDC83\", \"CCDC84\", \"CCDC85A\", \"CCDC85B\", \"CCDC85C\", \"CCDC86\", \"CCDC87\", \"CCDC88A\", \"CCDC88B\", \"CCDC88C\", \"CCDC89\", \"CCDC9\", \"CCDC90B\", \"CCDC91\", \"CCDC92\", \"CCDC93\", \"CCDC94\", \"CCDC96\", \"CCDC97\", \"CCER1\", \"CCER2\", \"CCHCR1\", \"CCIN\", \"CCK\", \"CCKAR\", \"CCKBR\", \"CCL1\", \"CCL11\", \"CCL13\", \"CCL14\", \"CCL15\", \"CCL15-CCL14\", \"CCL16\", \"CCL17\", \"CCL18\", \"CCL19\", \"CCL2\", \"CCL20\", \"CCL21\", \"CCL22\", \"CCL23\", \"CCL24\", \"CCL25\", \"CCL26\", \"CCL27\", \"CCL28\", \"CCL3\", \"CCL3L3\", \"CCL4\", \"CCL4L2\", \"CCL5\", \"CCL7\", \"CCL8\", \"CCM2\", \"CCM2L\", \"CCNA1\", \"CCNA2\", \"CCNB1\", \"CCNB1IP1\", \"CCNB1IP1P1\", \"CCNB1IP1P2\", \"CCNB1IP1P3\", \"CCNB2\", \"CCNB2P1\", \"CCNB3\", \"CCNB3P1\", \"CCNC\", \"CCND1\", \"CCND2\", \"CCND2-AS1\", \"CCND2-AS2\", \"CCND2P1\", \"CCND3\", \"CCND3P1\", \"CCND3P2\", \"CCNDBP1\", \"CCNE1\", \"CCNE2\", \"CCNF\", \"CCNG1\", \"CCNG1P1\", \"CCNG2\", \"CCNG2P1\", \"CCNH\", \"CCNHP1\", \"CCNI\", \"CCNI2\", \"CCNJ\", \"CCNJL\", \"CCNJP1\", \"CCNJP2\", \"CCNK\", \"CCNL1\", \"CCNL2\", \"CCNL2P1\", \"CCNO\", \"CCNT1\", \"CCNT2\", \"CCNT2-AS1\", \"CCNT2P1\", \"CCNY\", \"CCNYL1\", \"CCNYL2\", \"CCNYL3\", \"CCP110\", \"CCPG1\", \"CCR1\", \"CCR10\", \"CCR12P\", \"CCR2\", \"CCR3\", \"CCR4\", \"CCR5\", \"CCR6\", \"CCR7\", \"CCR8\", \"CCR9\", \"CCRL2\", \"CCRN4L\", \"CCS\", \"CCSAP\", \"CCSER1\", \"CCSER2\", \"CCT2\", \"CCT3\", \"CCT4\", \"CCT4P1\", \"CCT4P2\", \"CCT5\", \"CCT5P1\", \"CCT5P2\", \"CCT6A\", \"CCT6B\", \"CCT6P1\", \"CCT6P2\", \"CCT6P3\", \"CCT6P4\", \"CCT7\", \"CCT7P1\", \"CCT7P2\", \"CCT8\", \"CCT8L1P\", \"CCT8L2\", \"CCT8P1\", \"CCZ1\", \"CCZ1B\", \"CD101\", \"CD109\", \"CD14\", \"CD151\", \"CD160\", \"CD163\", \"CD163L1\", \"CD164\", \"CD164L2\", \"CD177\", \"CD177P1\", \"CD180\", \"CD19\", \"CD1A\", \"CD1B\", \"CD1C\", \"CD1D\", \"CD1E\", \"CD2\", \"CD200\", \"CD200R1\", \"CD200R1L\", \"CD207\", \"CD209\", \"CD22\", \"CD226\", \"CD24\", \"CD244\", \"CD247\", \"CD248\", \"CD24P2\", \"CD24P4\", \"CD27\", \"CD27-AS1\", \"CD274\", \"CD276\", \"CD28\", \"CD2AP\", \"CD2BP2\", \"CD300A\", \"CD300C\", \"CD300E\", \"CD300LB\", \"CD300LD\", \"CD300LF\", \"CD300LG\", \"CD302\", \"CD320\", \"CD33\", \"CD34\", \"CD36\", \"CD37\", \"CD38\", \"CD3D\", \"CD3E\", \"CD3EAP\", \"CD3G\", \"CD4\", \"CD40\", \"CD40LG\", \"CD44\", \"CD46\", \"CD46P1\", \"CD47\", \"CD48\", \"CD5\", \"CD52\", \"CD53\", \"CD55\", \"CD58\", \"CD59\", \"CD5L\", \"CD6\", \"CD63\", \"CD68\", \"CD69\", \"CD7\", \"CD70\", \"CD72\", \"CD74\", \"CD79A\", \"CD79B\", \"CD80\", \"CD81\", \"CD81-AS1\", \"CD82\", \"CD83\", \"CD84\", \"CD86\", \"CD8A\", \"CD8B\", \"CD8BP\", \"CD9\", \"CD93\", \"CD96\", \"CD99\", \"CD99L2\", \"CD99P1\", \"CDA\", \"CDADC1\", \"CDAN1\", \"CDC123\", \"CDC14A\", \"CDC14B\", \"CDC14C\", \"CDC16\", \"CDC20\", \"CDC20B\", \"CDC20P1\", \"CDC23\", \"CDC25A\", \"CDC25B\", \"CDC25C\", \"CDC26\", \"CDC27\", \"CDC27P1\", \"CDC27P2\", \"CDC34\", \"CDC37\", \"CDC37L1\", \"CDC37L1-AS1\", \"CDC37P1\", \"CDC40\", \"CDC42\", \"CDC42-IT1\", \"CDC42BPA\", \"CDC42BPB\", \"CDC42BPG\", \"CDC42EP1\", \"CDC42EP2\", \"CDC42EP3\", \"CDC42EP3P1\", \"CDC42EP4\", \"CDC42EP5\", \"CDC42P1\", \"CDC42P2\", \"CDC42P3\", \"CDC42P4\", \"CDC42P5\", \"CDC42P6\", \"CDC42SE1\", \"CDC42SE2\", \"CDC45\", \"CDC5L\", \"CDC6\", \"CDC7\", \"CDC73\", \"CDCA2\", \"CDCA3\", \"CDCA4\", \"CDCA4P1\", \"CDCA4P2\", \"CDCA4P3\", \"CDCA4P4\", \"CDCA5\", \"CDCA7\", \"CDCA7L\", \"CDCA8\", \"CDCP1\", \"CDCP2\", \"CDH1\", \"CDH10\", \"CDH11\", \"CDH12\", \"CDH12P1\", \"CDH12P2\", \"CDH12P3\", \"CDH12P4\", \"CDH13\", \"CDH15\", \"CDH16\", \"CDH17\", \"CDH18\", \"CDH19\", \"CDH2\", \"CDH20\", \"CDH22\", \"CDH23\", \"CDH23-AS1\", \"CDH24\", \"CDH26\", \"CDH3\", \"CDH4\", \"CDH5\", \"CDH6\", \"CDH7\", \"CDH8\", \"CDH9\", \"CDHR1\", \"CDHR2\", \"CDHR3\", \"CDHR4\", \"CDHR5\", \"CDIP1\", \"CDIPT\", \"CDIPT-AS1\", \"CDK1\", \"CDK10\", \"CDK11A\", \"CDK11B\", \"CDK12\", \"CDK13\", \"CDK14\", \"CDK15\", \"CDK16\", \"CDK17\", \"CDK18\", \"CDK19\", \"CDK2\", \"CDK20\", \"CDK2AP1\", \"CDK2AP2\", \"CDK2AP2P1\", \"CDK2AP2P2\", \"CDK2AP2P3\", \"CDK3\", \"CDK4\", \"CDK5\", \"CDK5PS\", \"CDK5R1\", \"CDK5R2\", \"CDK5RAP1\", \"CDK5RAP2\", \"CDK5RAP3\", \"CDK6\", \"CDK7\", \"CDK8\", \"CDK9\", \"CDKAL1\", \"CDKL1\", \"CDKL2\", \"CDKL3\", \"CDKL4\", \"CDKL5\", \"CDKN1A\", \"CDKN1B\", \"CDKN1C\", \"CDKN2A\", \"CDKN2A-AS1\", \"CDKN2AIP\", \"CDKN2AIPNL\", \"CDKN2AIPNLP1\", \"CDKN2AIPNLP2\", \"CDKN2AIPNLP3\", \"CDKN2B\", \"CDKN2B-AS\", \"CDKN2B-AS1\", \"CDKN2B-AS\\_3\", \"CDKN2C\", \"CDKN2D\", \"CDKN3\", \"CDNF\", \"CDO1\", \"CDON\", \"CDPF1\", \"CDR1\", \"CDR1-AS\", \"CDR2\", \"CDR2L\", \"CDRT1\", \"CDRT15\", \"CDRT15L2\", \"CDRT15P1\", \"CDRT15P2\", \"CDRT4\", \"CDRT7\", \"CDRT8\", \"CDS1\", \"CDS2\", \"CDSN\", \"CDT1\", \"CDV3\", \"CDV3P1\", \"CDX1\", \"CDX2\", \"CDX4\", \"CDY1\", \"CDY10P\", \"CDY11P\", \"CDY12P\", \"CDY13P\", \"CDY14P\", \"CDY15P\", \"CDY17P\", \"CDY18P\", \"CDY19P\", \"CDY1B\", \"CDY20P\", \"CDY22P\", \"CDY23P\", \"CDY2A\", \"CDY2B\", \"CDY3P\", \"CDY4P\", \"CDY5P\", \"CDY6P\", \"CDY7P\", \"CDY8P\", \"CDY9P\", \"CDYL\", \"CDYL2\", \"CEACAM1\", \"CEACAM16\", \"CEACAM18\", \"CEACAM19\", \"CEACAM20\", \"CEACAM21\", \"CEACAM22P\", \"CEACAM3\", \"CEACAM4\", \"CEACAM5\", \"CEACAM6\", \"CEACAM7\", \"CEACAM8\", \"CEACAMP1\", \"CEACAMP10\", \"CEACAMP11\", \"CEACAMP2\", \"CEACAMP3\", \"CEACAMP4\", \"CEACAMP5\", \"CEACAMP6\", \"CEACAMP7\", \"CEACAMP8\", \"CEACAMP9\", \"CEBPA\", \"CEBPA-AS1\", \"CEBPB\", \"CEBPB-AS1\", \"CEBPD\", \"CEBPE\", \"CEBPG\", \"CEBPZ\", \"CEBPZOS\", \"CECR1\", \"CECR2\", \"CECR3\", \"CECR5\", \"CECR5-AS1\", \"CECR6\", \"CECR7\", \"CECR9\", \"CEL\", \"CELA1\", \"CELA2A\", \"CELA2B\", \"CELA3A\", \"CELA3B\", \"CELF1\", \"CELF2\", \"CELF2-AS1\", \"CELF2-AS2\", \"CELF3\", \"CELF4\", \"CELF5\", \"CELF6\", \"CELP\", \"CELSR1\", \"CELSR2\", \"CELSR3\", \"CELSR3-AS1\", \"CEMIP\", \"CEMP1\", \"CEND1\", \"CEND1P1\", \"CENPA\", \"CENPB\", \"CENPBD1\", \"CENPBD1P1\", \"CENPC\", \"CENPCP1\", \"CENPE\", \"CENPF\", \"CENPH\", \"CENPI\", \"CENPIP1\", \"CENPJ\", \"CENPK\", \"CENPL\", \"CENPM\", \"CENPN\", \"CENPO\", \"CENPP\", \"CENPQ\", \"CENPT\", \"CENPU\", \"CENPUP1\", \"CENPUP2\", \"CENPV\", \"CENPVP1\", \"CENPVP3\", \"CENPW\", \"CEP104\", \"CEP112\", \"CEP120\", \"CEP126\", \"CEP128\", \"CEP131\", \"CEP135\", \"CEP152\", \"CEP162\", \"CEP164\", \"CEP164P1\", \"CEP170\", \"CEP170B\", \"CEP170P1\", \"CEP19\", \"CEP192\", \"CEP250\", \"CEP290\", \"CEP295\", \"CEP295NL\", \"CEP350\", \"CEP41\", \"CEP44\", \"CEP55\", \"CEP57\", \"CEP57L1\", \"CEP57L1P1\", \"CEP63\", \"CEP68\", \"CEP70\", \"CEP72\", \"CEP76\", \"CEP78\", \"CEP83\", \"CEP83-AS1\", \"CEP85\", \"CEP85L\", \"CEP89\", \"CEP95\", \"CEP97\", \"CEPT1\", \"CER1\", \"CERCAM\", \"CERK\", \"CERKL\", \"CERS1\", \"CERS2\", \"CERS3\", \"CERS3-AS1\", \"CERS4\", \"CERS5\", \"CERS6\", \"CERS6-AS1\", \"CES1\", \"CES1P1\", \"CES1P2\", \"CES2\", \"CES3\", \"CES4A\", \"CES5A\", \"CES5AP1\", \"CETN1\", \"CETN2\", \"CETN3\", \"CETN4P\", \"CETP\", \"CFAP126\", \"CFAP20\", \"CFAP221\", \"CFAP36\", \"CFAP43\", \"CFAP44\", \"CFAP44-AS1\", \"CFAP45\", \"CFAP46\", \"CFAP47\", \"CFAP52\", \"CFAP53\", \"CFAP54\", \"CFAP57\", \"CFAP58\", \"CFAP58-AS1\", \"CFAP61\", \"CFAP69\", \"CFAP70\", \"CFAP74\", \"CFAP97\", \"CFAP99\", \"CFB\", \"CFC1\", \"CFC1B\", \"CFD\", \"CFDP1\", \"CFH\", \"CFHR1\", \"CFHR2\", \"CFHR3\", \"CFHR4\", \"CFHR5\", \"CFI\", \"CFL1\", \"CFL1P1\", \"CFL1P2\", \"CFL1P3\", \"CFL1P4\", \"CFL1P5\", \"CFL1P6\", \"CFL1P7\", \"CFL1P8\", \"CFL2\", \"CFLAR\", \"CFLAR-AS1\", \"CFP\", \"CFTR\", \"CFTRP1\", \"CFTRP3\", \"CGA\", \"CGB\", \"CGB1\", \"CGB2\", \"CGB5\", \"CGB7\", \"CGB8\", \"CGGBP1\", \"CGN\", \"CGNL1\", \"CGREF1\", \"CGRRF1\", \"CH17-118O6.3\", \"CH17-118O6.4\", \"CH17-125A10.1\", \"CH17-125A10.2\", \"CH17-128G5.1\", \"CH17-12M21.1\", \"CH17-132F21.4\", \"CH17-132F21.5\", \"CH17-13I23.1\", \"CH17-13I23.2\", \"CH17-13I23.3\", \"CH17-140K24.1\", \"CH17-140K24.2\", \"CH17-140K24.3\", \"CH17-140K24.4\", \"CH17-140K24.5\", \"CH17-140K24.6\", \"CH17-140K24.7\", \"CH17-140K24.8\", \"CH17-164J11.1\", \"CH17-174L20.1\", \"CH17-189H20.1\", \"CH17-212P11.4\", \"CH17-212P11.5\", \"CH17-212P11.6\", \"CH17-219N22.1\", \"CH17-224D4.1\", \"CH17-224D4.2\", \"CH17-232I21.1\", \"CH17-248H7.2\", \"CH17-248H7.3\", \"CH17-258A22.4\", \"CH17-260O16.1\", \"CH17-262A2.1\", \"CH17-262H11.1\", \"CH17-262O2.1\", \"CH17-262O2.2\", \"CH17-264B6.3\", \"CH17-264B6.4\", \"CH17-264L24.1\", \"CH17-270A2.1\", \"CH17-270A2.2\", \"CH17-302M23.1\", \"CH17-31A6.1\", \"CH17-333M13.1\", \"CH17-333M13.2\", \"CH17-335B8.4\", \"CH17-340M24.3\", \"CH17-351M24.1\", \"CH17-353B19.1\", \"CH17-360D5.1\", \"CH17-360D5.2\", \"CH17-360D5.3\", \"CH17-373J23.1\", \"CH17-385C13.2\", \"CH17-38B12.4\", \"CH17-408M7.1\", \"CH17-409J4.2\", \"CH17-431G21.1\", \"CH17-437K3.1\", \"CH17-472G23.1\", \"CH17-472G23.2\", \"CH17-472G23.4\", \"CH17-478G19.2\", \"CH17-53B9.2\", \"CH17-53B9.4\", \"CH17-76K2.6\", \"CH17-78J1.1\", \"CH17-80A12.1\", \"CH25H\", \"CH507-145C22.1\", \"CH507-145C22.2\", \"CH507-145C22.3\", \"CH507-145C22.4\", \"CH507-152C13.1\", \"CH507-152C13.3\", \"CH507-152C13.4\", \"CH507-152C13.5\", \"CH507-152C13.6\", \"CH507-154B10.1\", \"CH507-154B10.2\", \"CH507-154B10.3\", \"CH507-210P18.1\", \"CH507-210P18.3\", \"CH507-210P18.4\", \"CH507-210P18.5\", \"CH507-216K13.1\", \"CH507-216K13.2\", \"CH507-236L23.1\", \"CH507-236L23.2\", \"CH507-236L23.3\", \"CH507-236L23.4\", \"CH507-236L23.5\", \"CH507-24F1.1\", \"CH507-24F1.2\", \"CH507-254M2.1\", \"CH507-254M2.2\", \"CH507-254M2.3\", \"CH507-254M2.4\", \"CH507-254M2.5\", \"CH507-254M2.6\", \"CH507-338C24.1\", \"CH507-338C24.2\", \"CH507-338C24.3\", \"CH507-396I9.3\", \"CH507-396I9.6\", \"CH507-396I9.7\", \"CH507-39O4.1\", \"CH507-39O4.2\", \"CH507-39O4.3\", \"CH507-42P11.1\", \"CH507-42P11.2\", \"CH507-42P11.3\", \"CH507-42P11.5\", \"CH507-42P11.6\", \"CH507-42P11.7\", \"CH507-42P11.8\", \"CH507-513H4.1\", \"CH507-513H4.3\", \"CH507-513H4.4\", \"CH507-513H4.5\", \"CH507-513H4.6\", \"CH507-528H12.1\", \"CH507-9B2.2\", \"CH507-9B2.3\", \"CH507-9B2.4\", \"CH507-9B2.5\", \"CH507-9B2.8\", \"CH507-9B2.9\", \"CHAC1\", \"CHAC2\", \"CHAD\", \"CHADL\", \"CHAF1A\", \"CHAF1B\", \"CHAMP1\", \"CHAT\", \"CHCHD1\", \"CHCHD10\", \"CHCHD2\", \"CHCHD2P1\", \"CHCHD2P11\", \"CHCHD2P2\", \"CHCHD2P3\", \"CHCHD2P4\", \"CHCHD2P5\", \"CHCHD2P6\", \"CHCHD2P7\", \"CHCHD2P8\", \"CHCHD2P9\", \"CHCHD3\", \"CHCHD3P1\", \"CHCHD3P2\", \"CHCHD3P3\", \"CHCHD4\", \"CHCHD4P2\", \"CHCHD4P3\", \"CHCHD4P4\", \"CHCHD4P5\", \"CHCHD5\", \"CHCHD6\", \"CHCHD7\", \"CHD1\", \"CHD1L\", \"CHD2\", \"CHD3\", \"CHD4\", \"CHD5\", \"CHD6\", \"CHD7\", \"CHD8\", \"CHD9\", \"CHDH\", \"CHEK1\", \"CHEK2\", \"CHEK2P2\", \"CHEK2P3\", \"CHEK2P4\", \"CHEK2P5\", \"CHERP\", \"CHFR\", \"CHGA\", \"CHGB\", \"CHI3L1\", \"CHI3L2\", \"CHIA\", \"CHIAP1\", \"CHIAP2\", \"CHIAP3\", \"CHIC1\", \"CHIC2\", \"CHID1\", \"CHIT1\", \"CHKA\", \"CHKB\", \"CHKB-AS1\", \"CHKB-CPT1B\", \"CHL1\", \"CHL1-AS1\", \"CHL1-AS2\", \"CHM\", \"CHML\", \"CHMP1A\", \"CHMP1AP1\", \"CHMP1B\", \"CHMP1B2P\", \"CHMP2A\", \"CHMP2B\", \"CHMP3\", \"CHMP4A\", \"CHMP4B\", \"CHMP4BP1\", \"CHMP4C\", \"CHMP5\", \"CHMP6\", \"CHMP7\", \"CHN1\", \"CHN2\", \"CHODL\", \"CHODL-AS1\", \"CHORDC1\", \"CHORDC2P\", \"CHP1\", \"CHP2\", \"CHPF\", \"CHPF2\", \"CHPT1\", \"CHRAC1\", \"CHRD\", \"CHRDL1\", \"CHRDL2\", \"CHRFAM7A\", \"CHRM1\", \"CHRM2\", \"CHRM3\", \"CHRM3-AS1\", \"CHRM3-AS2\", \"CHRM4\", \"CHRM5\", \"CHRNA1\", \"CHRNA10\", \"CHRNA2\"{]}\\}{]}){]})'"
      ],
      "text/markdown": [
       "<span style=white-space:pre-wrap>'(fetch [{:table \"tcga_RSEM_Hugo_norm_count\"\\n                               :samples [\"TCGA-OR-A5JX-01\", \"TCGA-HV-A5A5-01\", \"TCGA-MQ-A4LP-01\", \"TCGA-FD-A3N5-01\", \"TCGA-EP-A2KC-01\", \"TCGA-BH-A1F0-11\", \"TCGA-A8-A079-01\", \"TCGA-EL-A4JZ-01\", \"TCGA-LH-A9QB-06\", \"TCGA-DK-A2I2-01\"]\\n                               :columns [\"CCDC157\", \"CCDC158\", \"CCDC159\", \"CCDC160\", \"CCDC162P\", \"CCDC163P\", \"CCDC166\", \"CCDC167\", \"CCDC168\", \"CCDC169\", \"CCDC169-SOHLH2\", \"CCDC17\", \"CCDC170\", \"CCDC171\", \"CCDC172\", \"CCDC173\", \"CCDC174\", \"CCDC175\", \"CCDC176\", \"CCDC177\", \"CCDC178\", \"CCDC179\", \"CCDC18\", \"CCDC180\", \"CCDC181\", \"CCDC182\", \"CCDC183\", \"CCDC183-AS1\", \"CCDC184\", \"CCDC185\", \"CCDC186\", \"CCDC22\", \"CCDC23\", \"CCDC24\", \"CCDC25\", \"CCDC26\", \"CCDC27\", \"CCDC28A\", \"CCDC28B\", \"CCDC3\", \"CCDC30\", \"CCDC33\", \"CCDC34\", \"CCDC34P1\", \"CCDC36\", \"CCDC37\", \"CCDC37-AS1\", \"CCDC38\", \"CCDC39\", \"CCDC39-AS1\", \"CCDC40\", \"CCDC42\", \"CCDC42B\", \"CCDC43\", \"CCDC47\", \"CCDC50\", \"CCDC51\", \"CCDC53\", \"CCDC54\", \"CCDC57\", \"CCDC58\", \"CCDC58P1\", \"CCDC58P2\", \"CCDC58P3\", \"CCDC58P5\", \"CCDC59\", \"CCDC6\", \"CCDC60\", \"CCDC61\", \"CCDC62\", \"CCDC63\", \"CCDC64\", \"CCDC64B\", \"CCDC65\", \"CCDC66\", \"CCDC67\", \"CCDC68\", \"CCDC69\", \"CCDC7\", \"CCDC70\", \"CCDC71\", \"CCDC71L\", \"CCDC73\", \"CCDC74A\", \"CCDC74B\", \"CCDC75P1\", \"CCDC77\", \"CCDC78\", \"CCDC79\", \"CCDC8\", \"CCDC80\", \"CCDC81\", \"CCDC82\", \"CCDC83\", \"CCDC84\", \"CCDC85A\", \"CCDC85B\", \"CCDC85C\", \"CCDC86\", \"CCDC87\", \"CCDC88A\", \"CCDC88B\", \"CCDC88C\", \"CCDC89\", \"CCDC9\", \"CCDC90B\", \"CCDC91\", \"CCDC92\", \"CCDC93\", \"CCDC94\", \"CCDC96\", \"CCDC97\", \"CCER1\", \"CCER2\", \"CCHCR1\", \"CCIN\", \"CCK\", \"CCKAR\", \"CCKBR\", \"CCL1\", \"CCL11\", \"CCL13\", \"CCL14\", \"CCL15\", \"CCL15-CCL14\", \"CCL16\", \"CCL17\", \"CCL18\", \"CCL19\", \"CCL2\", \"CCL20\", \"CCL21\", \"CCL22\", \"CCL23\", \"CCL24\", \"CCL25\", \"CCL26\", \"CCL27\", \"CCL28\", \"CCL3\", \"CCL3L3\", \"CCL4\", \"CCL4L2\", \"CCL5\", \"CCL7\", \"CCL8\", \"CCM2\", \"CCM2L\", \"CCNA1\", \"CCNA2\", \"CCNB1\", \"CCNB1IP1\", \"CCNB1IP1P1\", \"CCNB1IP1P2\", \"CCNB1IP1P3\", \"CCNB2\", \"CCNB2P1\", \"CCNB3\", \"CCNB3P1\", \"CCNC\", \"CCND1\", \"CCND2\", \"CCND2-AS1\", \"CCND2-AS2\", \"CCND2P1\", \"CCND3\", \"CCND3P1\", \"CCND3P2\", \"CCNDBP1\", \"CCNE1\", \"CCNE2\", \"CCNF\", \"CCNG1\", \"CCNG1P1\", \"CCNG2\", \"CCNG2P1\", \"CCNH\", \"CCNHP1\", \"CCNI\", \"CCNI2\", \"CCNJ\", \"CCNJL\", \"CCNJP1\", \"CCNJP2\", \"CCNK\", \"CCNL1\", \"CCNL2\", \"CCNL2P1\", \"CCNO\", \"CCNT1\", \"CCNT2\", \"CCNT2-AS1\", \"CCNT2P1\", \"CCNY\", \"CCNYL1\", \"CCNYL2\", \"CCNYL3\", \"CCP110\", \"CCPG1\", \"CCR1\", \"CCR10\", \"CCR12P\", \"CCR2\", \"CCR3\", \"CCR4\", \"CCR5\", \"CCR6\", \"CCR7\", \"CCR8\", \"CCR9\", \"CCRL2\", \"CCRN4L\", \"CCS\", \"CCSAP\", \"CCSER1\", \"CCSER2\", \"CCT2\", \"CCT3\", \"CCT4\", \"CCT4P1\", \"CCT4P2\", \"CCT5\", \"CCT5P1\", \"CCT5P2\", \"CCT6A\", \"CCT6B\", \"CCT6P1\", \"CCT6P2\", \"CCT6P3\", \"CCT6P4\", \"CCT7\", \"CCT7P1\", \"CCT7P2\", \"CCT8\", \"CCT8L1P\", \"CCT8L2\", \"CCT8P1\", \"CCZ1\", \"CCZ1B\", \"CD101\", \"CD109\", \"CD14\", \"CD151\", \"CD160\", \"CD163\", \"CD163L1\", \"CD164\", \"CD164L2\", \"CD177\", \"CD177P1\", \"CD180\", \"CD19\", \"CD1A\", \"CD1B\", \"CD1C\", \"CD1D\", \"CD1E\", \"CD2\", \"CD200\", \"CD200R1\", \"CD200R1L\", \"CD207\", \"CD209\", \"CD22\", \"CD226\", \"CD24\", \"CD244\", \"CD247\", \"CD248\", \"CD24P2\", \"CD24P4\", \"CD27\", \"CD27-AS1\", \"CD274\", \"CD276\", \"CD28\", \"CD2AP\", \"CD2BP2\", \"CD300A\", \"CD300C\", \"CD300E\", \"CD300LB\", \"CD300LD\", \"CD300LF\", \"CD300LG\", \"CD302\", \"CD320\", \"CD33\", \"CD34\", \"CD36\", \"CD37\", \"CD38\", \"CD3D\", \"CD3E\", \"CD3EAP\", \"CD3G\", \"CD4\", \"CD40\", \"CD40LG\", \"CD44\", \"CD46\", \"CD46P1\", \"CD47\", \"CD48\", \"CD5\", \"CD52\", \"CD53\", \"CD55\", \"CD58\", \"CD59\", \"CD5L\", \"CD6\", \"CD63\", \"CD68\", \"CD69\", \"CD7\", \"CD70\", \"CD72\", \"CD74\", \"CD79A\", \"CD79B\", \"CD80\", \"CD81\", \"CD81-AS1\", \"CD82\", \"CD83\", \"CD84\", \"CD86\", \"CD8A\", \"CD8B\", \"CD8BP\", \"CD9\", \"CD93\", \"CD96\", \"CD99\", \"CD99L2\", \"CD99P1\", \"CDA\", \"CDADC1\", \"CDAN1\", \"CDC123\", \"CDC14A\", \"CDC14B\", \"CDC14C\", \"CDC16\", \"CDC20\", \"CDC20B\", \"CDC20P1\", \"CDC23\", \"CDC25A\", \"CDC25B\", \"CDC25C\", \"CDC26\", \"CDC27\", \"CDC27P1\", \"CDC27P2\", \"CDC34\", \"CDC37\", \"CDC37L1\", \"CDC37L1-AS1\", \"CDC37P1\", \"CDC40\", \"CDC42\", \"CDC42-IT1\", \"CDC42BPA\", \"CDC42BPB\", \"CDC42BPG\", \"CDC42EP1\", \"CDC42EP2\", \"CDC42EP3\", \"CDC42EP3P1\", \"CDC42EP4\", \"CDC42EP5\", \"CDC42P1\", \"CDC42P2\", \"CDC42P3\", \"CDC42P4\", \"CDC42P5\", \"CDC42P6\", \"CDC42SE1\", \"CDC42SE2\", \"CDC45\", \"CDC5L\", \"CDC6\", \"CDC7\", \"CDC73\", \"CDCA2\", \"CDCA3\", \"CDCA4\", \"CDCA4P1\", \"CDCA4P2\", \"CDCA4P3\", \"CDCA4P4\", \"CDCA5\", \"CDCA7\", \"CDCA7L\", \"CDCA8\", \"CDCP1\", \"CDCP2\", \"CDH1\", \"CDH10\", \"CDH11\", \"CDH12\", \"CDH12P1\", \"CDH12P2\", \"CDH12P3\", \"CDH12P4\", \"CDH13\", \"CDH15\", \"CDH16\", \"CDH17\", \"CDH18\", \"CDH19\", \"CDH2\", \"CDH20\", \"CDH22\", \"CDH23\", \"CDH23-AS1\", \"CDH24\", \"CDH26\", \"CDH3\", \"CDH4\", \"CDH5\", \"CDH6\", \"CDH7\", \"CDH8\", \"CDH9\", \"CDHR1\", \"CDHR2\", \"CDHR3\", \"CDHR4\", \"CDHR5\", \"CDIP1\", \"CDIPT\", \"CDIPT-AS1\", \"CDK1\", \"CDK10\", \"CDK11A\", \"CDK11B\", \"CDK12\", \"CDK13\", \"CDK14\", \"CDK15\", \"CDK16\", \"CDK17\", \"CDK18\", \"CDK19\", \"CDK2\", \"CDK20\", \"CDK2AP1\", \"CDK2AP2\", \"CDK2AP2P1\", \"CDK2AP2P2\", \"CDK2AP2P3\", \"CDK3\", \"CDK4\", \"CDK5\", \"CDK5PS\", \"CDK5R1\", \"CDK5R2\", \"CDK5RAP1\", \"CDK5RAP2\", \"CDK5RAP3\", \"CDK6\", \"CDK7\", \"CDK8\", \"CDK9\", \"CDKAL1\", \"CDKL1\", \"CDKL2\", \"CDKL3\", \"CDKL4\", \"CDKL5\", \"CDKN1A\", \"CDKN1B\", \"CDKN1C\", \"CDKN2A\", \"CDKN2A-AS1\", \"CDKN2AIP\", \"CDKN2AIPNL\", \"CDKN2AIPNLP1\", \"CDKN2AIPNLP2\", \"CDKN2AIPNLP3\", \"CDKN2B\", \"CDKN2B-AS\", \"CDKN2B-AS1\", \"CDKN2B-AS_3\", \"CDKN2C\", \"CDKN2D\", \"CDKN3\", \"CDNF\", \"CDO1\", \"CDON\", \"CDPF1\", \"CDR1\", \"CDR1-AS\", \"CDR2\", \"CDR2L\", \"CDRT1\", \"CDRT15\", \"CDRT15L2\", \"CDRT15P1\", \"CDRT15P2\", \"CDRT4\", \"CDRT7\", \"CDRT8\", \"CDS1\", \"CDS2\", \"CDSN\", \"CDT1\", \"CDV3\", \"CDV3P1\", \"CDX1\", \"CDX2\", \"CDX4\", \"CDY1\", \"CDY10P\", \"CDY11P\", \"CDY12P\", \"CDY13P\", \"CDY14P\", \"CDY15P\", \"CDY17P\", \"CDY18P\", \"CDY19P\", \"CDY1B\", \"CDY20P\", \"CDY22P\", \"CDY23P\", \"CDY2A\", \"CDY2B\", \"CDY3P\", \"CDY4P\", \"CDY5P\", \"CDY6P\", \"CDY7P\", \"CDY8P\", \"CDY9P\", \"CDYL\", \"CDYL2\", \"CEACAM1\", \"CEACAM16\", \"CEACAM18\", \"CEACAM19\", \"CEACAM20\", \"CEACAM21\", \"CEACAM22P\", \"CEACAM3\", \"CEACAM4\", \"CEACAM5\", \"CEACAM6\", \"CEACAM7\", \"CEACAM8\", \"CEACAMP1\", \"CEACAMP10\", \"CEACAMP11\", \"CEACAMP2\", \"CEACAMP3\", \"CEACAMP4\", \"CEACAMP5\", \"CEACAMP6\", \"CEACAMP7\", \"CEACAMP8\", \"CEACAMP9\", \"CEBPA\", \"CEBPA-AS1\", \"CEBPB\", \"CEBPB-AS1\", \"CEBPD\", \"CEBPE\", \"CEBPG\", \"CEBPZ\", \"CEBPZOS\", \"CECR1\", \"CECR2\", \"CECR3\", \"CECR5\", \"CECR5-AS1\", \"CECR6\", \"CECR7\", \"CECR9\", \"CEL\", \"CELA1\", \"CELA2A\", \"CELA2B\", \"CELA3A\", \"CELA3B\", \"CELF1\", \"CELF2\", \"CELF2-AS1\", \"CELF2-AS2\", \"CELF3\", \"CELF4\", \"CELF5\", \"CELF6\", \"CELP\", \"CELSR1\", \"CELSR2\", \"CELSR3\", \"CELSR3-AS1\", \"CEMIP\", \"CEMP1\", \"CEND1\", \"CEND1P1\", \"CENPA\", \"CENPB\", \"CENPBD1\", \"CENPBD1P1\", \"CENPC\", \"CENPCP1\", \"CENPE\", \"CENPF\", \"CENPH\", \"CENPI\", \"CENPIP1\", \"CENPJ\", \"CENPK\", \"CENPL\", \"CENPM\", \"CENPN\", \"CENPO\", \"CENPP\", \"CENPQ\", \"CENPT\", \"CENPU\", \"CENPUP1\", \"CENPUP2\", \"CENPV\", \"CENPVP1\", \"CENPVP3\", \"CENPW\", \"CEP104\", \"CEP112\", \"CEP120\", \"CEP126\", \"CEP128\", \"CEP131\", \"CEP135\", \"CEP152\", \"CEP162\", \"CEP164\", \"CEP164P1\", \"CEP170\", \"CEP170B\", \"CEP170P1\", \"CEP19\", \"CEP192\", \"CEP250\", \"CEP290\", \"CEP295\", \"CEP295NL\", \"CEP350\", \"CEP41\", \"CEP44\", \"CEP55\", \"CEP57\", \"CEP57L1\", \"CEP57L1P1\", \"CEP63\", \"CEP68\", \"CEP70\", \"CEP72\", \"CEP76\", \"CEP78\", \"CEP83\", \"CEP83-AS1\", \"CEP85\", \"CEP85L\", \"CEP89\", \"CEP95\", \"CEP97\", \"CEPT1\", \"CER1\", \"CERCAM\", \"CERK\", \"CERKL\", \"CERS1\", \"CERS2\", \"CERS3\", \"CERS3-AS1\", \"CERS4\", \"CERS5\", \"CERS6\", \"CERS6-AS1\", \"CES1\", \"CES1P1\", \"CES1P2\", \"CES2\", \"CES3\", \"CES4A\", \"CES5A\", \"CES5AP1\", \"CETN1\", \"CETN2\", \"CETN3\", \"CETN4P\", \"CETP\", \"CFAP126\", \"CFAP20\", \"CFAP221\", \"CFAP36\", \"CFAP43\", \"CFAP44\", \"CFAP44-AS1\", \"CFAP45\", \"CFAP46\", \"CFAP47\", \"CFAP52\", \"CFAP53\", \"CFAP54\", \"CFAP57\", \"CFAP58\", \"CFAP58-AS1\", \"CFAP61\", \"CFAP69\", \"CFAP70\", \"CFAP74\", \"CFAP97\", \"CFAP99\", \"CFB\", \"CFC1\", \"CFC1B\", \"CFD\", \"CFDP1\", \"CFH\", \"CFHR1\", \"CFHR2\", \"CFHR3\", \"CFHR4\", \"CFHR5\", \"CFI\", \"CFL1\", \"CFL1P1\", \"CFL1P2\", \"CFL1P3\", \"CFL1P4\", \"CFL1P5\", \"CFL1P6\", \"CFL1P7\", \"CFL1P8\", \"CFL2\", \"CFLAR\", \"CFLAR-AS1\", \"CFP\", \"CFTR\", \"CFTRP1\", \"CFTRP3\", \"CGA\", \"CGB\", \"CGB1\", \"CGB2\", \"CGB5\", \"CGB7\", \"CGB8\", \"CGGBP1\", \"CGN\", \"CGNL1\", \"CGREF1\", \"CGRRF1\", \"CH17-118O6.3\", \"CH17-118O6.4\", \"CH17-125A10.1\", \"CH17-125A10.2\", \"CH17-128G5.1\", \"CH17-12M21.1\", \"CH17-132F21.4\", \"CH17-132F21.5\", \"CH17-13I23.1\", \"CH17-13I23.2\", \"CH17-13I23.3\", \"CH17-140K24.1\", \"CH17-140K24.2\", \"CH17-140K24.3\", \"CH17-140K24.4\", \"CH17-140K24.5\", \"CH17-140K24.6\", \"CH17-140K24.7\", \"CH17-140K24.8\", \"CH17-164J11.1\", \"CH17-174L20.1\", \"CH17-189H20.1\", \"CH17-212P11.4\", \"CH17-212P11.5\", \"CH17-212P11.6\", \"CH17-219N22.1\", \"CH17-224D4.1\", \"CH17-224D4.2\", \"CH17-232I21.1\", \"CH17-248H7.2\", \"CH17-248H7.3\", \"CH17-258A22.4\", \"CH17-260O16.1\", \"CH17-262A2.1\", \"CH17-262H11.1\", \"CH17-262O2.1\", \"CH17-262O2.2\", \"CH17-264B6.3\", \"CH17-264B6.4\", \"CH17-264L24.1\", \"CH17-270A2.1\", \"CH17-270A2.2\", \"CH17-302M23.1\", \"CH17-31A6.1\", \"CH17-333M13.1\", \"CH17-333M13.2\", \"CH17-335B8.4\", \"CH17-340M24.3\", \"CH17-351M24.1\", \"CH17-353B19.1\", \"CH17-360D5.1\", \"CH17-360D5.2\", \"CH17-360D5.3\", \"CH17-373J23.1\", \"CH17-385C13.2\", \"CH17-38B12.4\", \"CH17-408M7.1\", \"CH17-409J4.2\", \"CH17-431G21.1\", \"CH17-437K3.1\", \"CH17-472G23.1\", \"CH17-472G23.2\", \"CH17-472G23.4\", \"CH17-478G19.2\", \"CH17-53B9.2\", \"CH17-53B9.4\", \"CH17-76K2.6\", \"CH17-78J1.1\", \"CH17-80A12.1\", \"CH25H\", \"CH507-145C22.1\", \"CH507-145C22.2\", \"CH507-145C22.3\", \"CH507-145C22.4\", \"CH507-152C13.1\", \"CH507-152C13.3\", \"CH507-152C13.4\", \"CH507-152C13.5\", \"CH507-152C13.6\", \"CH507-154B10.1\", \"CH507-154B10.2\", \"CH507-154B10.3\", \"CH507-210P18.1\", \"CH507-210P18.3\", \"CH507-210P18.4\", \"CH507-210P18.5\", \"CH507-216K13.1\", \"CH507-216K13.2\", \"CH507-236L23.1\", \"CH507-236L23.2\", \"CH507-236L23.3\", \"CH507-236L23.4\", \"CH507-236L23.5\", \"CH507-24F1.1\", \"CH507-24F1.2\", \"CH507-254M2.1\", \"CH507-254M2.2\", \"CH507-254M2.3\", \"CH507-254M2.4\", \"CH507-254M2.5\", \"CH507-254M2.6\", \"CH507-338C24.1\", \"CH507-338C24.2\", \"CH507-338C24.3\", \"CH507-396I9.3\", \"CH507-396I9.6\", \"CH507-396I9.7\", \"CH507-39O4.1\", \"CH507-39O4.2\", \"CH507-39O4.3\", \"CH507-42P11.1\", \"CH507-42P11.2\", \"CH507-42P11.3\", \"CH507-42P11.5\", \"CH507-42P11.6\", \"CH507-42P11.7\", \"CH507-42P11.8\", \"CH507-513H4.1\", \"CH507-513H4.3\", \"CH507-513H4.4\", \"CH507-513H4.5\", \"CH507-513H4.6\", \"CH507-528H12.1\", \"CH507-9B2.2\", \"CH507-9B2.3\", \"CH507-9B2.4\", \"CH507-9B2.5\", \"CH507-9B2.8\", \"CH507-9B2.9\", \"CHAC1\", \"CHAC2\", \"CHAD\", \"CHADL\", \"CHAF1A\", \"CHAF1B\", \"CHAMP1\", \"CHAT\", \"CHCHD1\", \"CHCHD10\", \"CHCHD2\", \"CHCHD2P1\", \"CHCHD2P11\", \"CHCHD2P2\", \"CHCHD2P3\", \"CHCHD2P4\", \"CHCHD2P5\", \"CHCHD2P6\", \"CHCHD2P7\", \"CHCHD2P8\", \"CHCHD2P9\", \"CHCHD3\", \"CHCHD3P1\", \"CHCHD3P2\", \"CHCHD3P3\", \"CHCHD4\", \"CHCHD4P2\", \"CHCHD4P3\", \"CHCHD4P4\", \"CHCHD4P5\", \"CHCHD5\", \"CHCHD6\", \"CHCHD7\", \"CHD1\", \"CHD1L\", \"CHD2\", \"CHD3\", \"CHD4\", \"CHD5\", \"CHD6\", \"CHD7\", \"CHD8\", \"CHD9\", \"CHDH\", \"CHEK1\", \"CHEK2\", \"CHEK2P2\", \"CHEK2P3\", \"CHEK2P4\", \"CHEK2P5\", \"CHERP\", \"CHFR\", \"CHGA\", \"CHGB\", \"CHI3L1\", \"CHI3L2\", \"CHIA\", \"CHIAP1\", \"CHIAP2\", \"CHIAP3\", \"CHIC1\", \"CHIC2\", \"CHID1\", \"CHIT1\", \"CHKA\", \"CHKB\", \"CHKB-AS1\", \"CHKB-CPT1B\", \"CHL1\", \"CHL1-AS1\", \"CHL1-AS2\", \"CHM\", \"CHML\", \"CHMP1A\", \"CHMP1AP1\", \"CHMP1B\", \"CHMP1B2P\", \"CHMP2A\", \"CHMP2B\", \"CHMP3\", \"CHMP4A\", \"CHMP4B\", \"CHMP4BP1\", \"CHMP4C\", \"CHMP5\", \"CHMP6\", \"CHMP7\", \"CHN1\", \"CHN2\", \"CHODL\", \"CHODL-AS1\", \"CHORDC1\", \"CHORDC2P\", \"CHP1\", \"CHP2\", \"CHPF\", \"CHPF2\", \"CHPT1\", \"CHRAC1\", \"CHRD\", \"CHRDL1\", \"CHRDL2\", \"CHRFAM7A\", \"CHRM1\", \"CHRM2\", \"CHRM3\", \"CHRM3-AS1\", \"CHRM3-AS2\", \"CHRM4\", \"CHRM5\", \"CHRNA1\", \"CHRNA10\", \"CHRNA2\"]}])])'</span>"
      ],
      "text/plain": [
       "[1] \"(fetch [{:table \\\"tcga_RSEM_Hugo_norm_count\\\"\\n                               :samples [\\\"TCGA-OR-A5JX-01\\\", \\\"TCGA-HV-A5A5-01\\\", \\\"TCGA-MQ-A4LP-01\\\", \\\"TCGA-FD-A3N5-01\\\", \\\"TCGA-EP-A2KC-01\\\", \\\"TCGA-BH-A1F0-11\\\", \\\"TCGA-A8-A079-01\\\", \\\"TCGA-EL-A4JZ-01\\\", \\\"TCGA-LH-A9QB-06\\\", \\\"TCGA-DK-A2I2-01\\\"]\\n                               :columns [\\\"CCDC157\\\", \\\"CCDC158\\\", \\\"CCDC159\\\", \\\"CCDC160\\\", \\\"CCDC162P\\\", \\\"CCDC163P\\\", \\\"CCDC166\\\", \\\"CCDC167\\\", \\\"CCDC168\\\", \\\"CCDC169\\\", \\\"CCDC169-SOHLH2\\\", \\\"CCDC17\\\", \\\"CCDC170\\\", \\\"CCDC171\\\", \\\"CCDC172\\\", \\\"CCDC173\\\", \\\"CCDC174\\\", \\\"CCDC175\\\", \\\"CCDC176\\\", \\\"CCDC177\\\", \\\"CCDC178\\\", \\\"CCDC179\\\", \\\"CCDC18\\\", \\\"CCDC180\\\", \\\"CCDC181\\\", \\\"CCDC182\\\", \\\"CCDC183\\\", \\\"CCDC183-AS1\\\", \\\"CCDC184\\\", \\\"CCDC185\\\", \\\"CCDC186\\\", \\\"CCDC22\\\", \\\"CCDC23\\\", \\\"CCDC24\\\", \\\"CCDC25\\\", \\\"CCDC26\\\", \\\"CCDC27\\\", \\\"CCDC28A\\\", \\\"CCDC28B\\\", \\\"CCDC3\\\", \\\"CCDC30\\\", \\\"CCDC33\\\", \\\"CCDC34\\\", \\\"CCDC34P1\\\", \\\"CCDC36\\\", \\\"CCDC37\\\", \\\"CCDC37-AS1\\\", \\\"CCDC38\\\", \\\"CCDC39\\\", \\\"CCDC39-AS1\\\", \\\"CCDC40\\\", \\\"CCDC42\\\", \\\"CCDC42B\\\", \\\"CCDC43\\\", \\\"CCDC47\\\", \\\"CCDC50\\\", \\\"CCDC51\\\", \\\"CCDC53\\\", \\\"CCDC54\\\", \\\"CCDC57\\\", \\\"CCDC58\\\", \\\"CCDC58P1\\\", \\\"CCDC58P2\\\", \\\"CCDC58P3\\\", \\\"CCDC58P5\\\", \\\"CCDC59\\\", \\\"CCDC6\\\", \\\"CCDC60\\\", \\\"CCDC61\\\", \\\"CCDC62\\\", \\\"CCDC63\\\", \\\"CCDC64\\\", \\\"CCDC64B\\\", \\\"CCDC65\\\", \\\"CCDC66\\\", \\\"CCDC67\\\", \\\"CCDC68\\\", \\\"CCDC69\\\", \\\"CCDC7\\\", \\\"CCDC70\\\", \\\"CCDC71\\\", \\\"CCDC71L\\\", \\\"CCDC73\\\", \\\"CCDC74A\\\", \\\"CCDC74B\\\", \\\"CCDC75P1\\\", \\\"CCDC77\\\", \\\"CCDC78\\\", \\\"CCDC79\\\", \\\"CCDC8\\\", \\\"CCDC80\\\", \\\"CCDC81\\\", \\\"CCDC82\\\", \\\"CCDC83\\\", \\\"CCDC84\\\", \\\"CCDC85A\\\", \\\"CCDC85B\\\", \\\"CCDC85C\\\", \\\"CCDC86\\\", \\\"CCDC87\\\", \\\"CCDC88A\\\", \\\"CCDC88B\\\", \\\"CCDC88C\\\", \\\"CCDC89\\\", \\\"CCDC9\\\", \\\"CCDC90B\\\", \\\"CCDC91\\\", \\\"CCDC92\\\", \\\"CCDC93\\\", \\\"CCDC94\\\", \\\"CCDC96\\\", \\\"CCDC97\\\", \\\"CCER1\\\", \\\"CCER2\\\", \\\"CCHCR1\\\", \\\"CCIN\\\", \\\"CCK\\\", \\\"CCKAR\\\", \\\"CCKBR\\\", \\\"CCL1\\\", \\\"CCL11\\\", \\\"CCL13\\\", \\\"CCL14\\\", \\\"CCL15\\\", \\\"CCL15-CCL14\\\", \\\"CCL16\\\", \\\"CCL17\\\", \\\"CCL18\\\", \\\"CCL19\\\", \\\"CCL2\\\", \\\"CCL20\\\", \\\"CCL21\\\", \\\"CCL22\\\", \\\"CCL23\\\", \\\"CCL24\\\", \\\"CCL25\\\", \\\"CCL26\\\", \\\"CCL27\\\", \\\"CCL28\\\", \\\"CCL3\\\", \\\"CCL3L3\\\", \\\"CCL4\\\", \\\"CCL4L2\\\", \\\"CCL5\\\", \\\"CCL7\\\", \\\"CCL8\\\", \\\"CCM2\\\", \\\"CCM2L\\\", \\\"CCNA1\\\", \\\"CCNA2\\\", \\\"CCNB1\\\", \\\"CCNB1IP1\\\", \\\"CCNB1IP1P1\\\", \\\"CCNB1IP1P2\\\", \\\"CCNB1IP1P3\\\", \\\"CCNB2\\\", \\\"CCNB2P1\\\", \\\"CCNB3\\\", \\\"CCNB3P1\\\", \\\"CCNC\\\", \\\"CCND1\\\", \\\"CCND2\\\", \\\"CCND2-AS1\\\", \\\"CCND2-AS2\\\", \\\"CCND2P1\\\", \\\"CCND3\\\", \\\"CCND3P1\\\", \\\"CCND3P2\\\", \\\"CCNDBP1\\\", \\\"CCNE1\\\", \\\"CCNE2\\\", \\\"CCNF\\\", \\\"CCNG1\\\", \\\"CCNG1P1\\\", \\\"CCNG2\\\", \\\"CCNG2P1\\\", \\\"CCNH\\\", \\\"CCNHP1\\\", \\\"CCNI\\\", \\\"CCNI2\\\", \\\"CCNJ\\\", \\\"CCNJL\\\", \\\"CCNJP1\\\", \\\"CCNJP2\\\", \\\"CCNK\\\", \\\"CCNL1\\\", \\\"CCNL2\\\", \\\"CCNL2P1\\\", \\\"CCNO\\\", \\\"CCNT1\\\", \\\"CCNT2\\\", \\\"CCNT2-AS1\\\", \\\"CCNT2P1\\\", \\\"CCNY\\\", \\\"CCNYL1\\\", \\\"CCNYL2\\\", \\\"CCNYL3\\\", \\\"CCP110\\\", \\\"CCPG1\\\", \\\"CCR1\\\", \\\"CCR10\\\", \\\"CCR12P\\\", \\\"CCR2\\\", \\\"CCR3\\\", \\\"CCR4\\\", \\\"CCR5\\\", \\\"CCR6\\\", \\\"CCR7\\\", \\\"CCR8\\\", \\\"CCR9\\\", \\\"CCRL2\\\", \\\"CCRN4L\\\", \\\"CCS\\\", \\\"CCSAP\\\", \\\"CCSER1\\\", \\\"CCSER2\\\", \\\"CCT2\\\", \\\"CCT3\\\", \\\"CCT4\\\", \\\"CCT4P1\\\", \\\"CCT4P2\\\", \\\"CCT5\\\", \\\"CCT5P1\\\", \\\"CCT5P2\\\", \\\"CCT6A\\\", \\\"CCT6B\\\", \\\"CCT6P1\\\", \\\"CCT6P2\\\", \\\"CCT6P3\\\", \\\"CCT6P4\\\", \\\"CCT7\\\", \\\"CCT7P1\\\", \\\"CCT7P2\\\", \\\"CCT8\\\", \\\"CCT8L1P\\\", \\\"CCT8L2\\\", \\\"CCT8P1\\\", \\\"CCZ1\\\", \\\"CCZ1B\\\", \\\"CD101\\\", \\\"CD109\\\", \\\"CD14\\\", \\\"CD151\\\", \\\"CD160\\\", \\\"CD163\\\", \\\"CD163L1\\\", \\\"CD164\\\", \\\"CD164L2\\\", \\\"CD177\\\", \\\"CD177P1\\\", \\\"CD180\\\", \\\"CD19\\\", \\\"CD1A\\\", \\\"CD1B\\\", \\\"CD1C\\\", \\\"CD1D\\\", \\\"CD1E\\\", \\\"CD2\\\", \\\"CD200\\\", \\\"CD200R1\\\", \\\"CD200R1L\\\", \\\"CD207\\\", \\\"CD209\\\", \\\"CD22\\\", \\\"CD226\\\", \\\"CD24\\\", \\\"CD244\\\", \\\"CD247\\\", \\\"CD248\\\", \\\"CD24P2\\\", \\\"CD24P4\\\", \\\"CD27\\\", \\\"CD27-AS1\\\", \\\"CD274\\\", \\\"CD276\\\", \\\"CD28\\\", \\\"CD2AP\\\", \\\"CD2BP2\\\", \\\"CD300A\\\", \\\"CD300C\\\", \\\"CD300E\\\", \\\"CD300LB\\\", \\\"CD300LD\\\", \\\"CD300LF\\\", \\\"CD300LG\\\", \\\"CD302\\\", \\\"CD320\\\", \\\"CD33\\\", \\\"CD34\\\", \\\"CD36\\\", \\\"CD37\\\", \\\"CD38\\\", \\\"CD3D\\\", \\\"CD3E\\\", \\\"CD3EAP\\\", \\\"CD3G\\\", \\\"CD4\\\", \\\"CD40\\\", \\\"CD40LG\\\", \\\"CD44\\\", \\\"CD46\\\", \\\"CD46P1\\\", \\\"CD47\\\", \\\"CD48\\\", \\\"CD5\\\", \\\"CD52\\\", \\\"CD53\\\", \\\"CD55\\\", \\\"CD58\\\", \\\"CD59\\\", \\\"CD5L\\\", \\\"CD6\\\", \\\"CD63\\\", \\\"CD68\\\", \\\"CD69\\\", \\\"CD7\\\", \\\"CD70\\\", \\\"CD72\\\", \\\"CD74\\\", \\\"CD79A\\\", \\\"CD79B\\\", \\\"CD80\\\", \\\"CD81\\\", \\\"CD81-AS1\\\", \\\"CD82\\\", \\\"CD83\\\", \\\"CD84\\\", \\\"CD86\\\", \\\"CD8A\\\", \\\"CD8B\\\", \\\"CD8BP\\\", \\\"CD9\\\", \\\"CD93\\\", \\\"CD96\\\", \\\"CD99\\\", \\\"CD99L2\\\", \\\"CD99P1\\\", \\\"CDA\\\", \\\"CDADC1\\\", \\\"CDAN1\\\", \\\"CDC123\\\", \\\"CDC14A\\\", \\\"CDC14B\\\", \\\"CDC14C\\\", \\\"CDC16\\\", \\\"CDC20\\\", \\\"CDC20B\\\", \\\"CDC20P1\\\", \\\"CDC23\\\", \\\"CDC25A\\\", \\\"CDC25B\\\", \\\"CDC25C\\\", \\\"CDC26\\\", \\\"CDC27\\\", \\\"CDC27P1\\\", \\\"CDC27P2\\\", \\\"CDC34\\\", \\\"CDC37\\\", \\\"CDC37L1\\\", \\\"CDC37L1-AS1\\\", \\\"CDC37P1\\\", \\\"CDC40\\\", \\\"CDC42\\\", \\\"CDC42-IT1\\\", \\\"CDC42BPA\\\", \\\"CDC42BPB\\\", \\\"CDC42BPG\\\", \\\"CDC42EP1\\\", \\\"CDC42EP2\\\", \\\"CDC42EP3\\\", \\\"CDC42EP3P1\\\", \\\"CDC42EP4\\\", \\\"CDC42EP5\\\", \\\"CDC42P1\\\", \\\"CDC42P2\\\", \\\"CDC42P3\\\", \\\"CDC42P4\\\", \\\"CDC42P5\\\", \\\"CDC42P6\\\", \\\"CDC42SE1\\\", \\\"CDC42SE2\\\", \\\"CDC45\\\", \\\"CDC5L\\\", \\\"CDC6\\\", \\\"CDC7\\\", \\\"CDC73\\\", \\\"CDCA2\\\", \\\"CDCA3\\\", \\\"CDCA4\\\", \\\"CDCA4P1\\\", \\\"CDCA4P2\\\", \\\"CDCA4P3\\\", \\\"CDCA4P4\\\", \\\"CDCA5\\\", \\\"CDCA7\\\", \\\"CDCA7L\\\", \\\"CDCA8\\\", \\\"CDCP1\\\", \\\"CDCP2\\\", \\\"CDH1\\\", \\\"CDH10\\\", \\\"CDH11\\\", \\\"CDH12\\\", \\\"CDH12P1\\\", \\\"CDH12P2\\\", \\\"CDH12P3\\\", \\\"CDH12P4\\\", \\\"CDH13\\\", \\\"CDH15\\\", \\\"CDH16\\\", \\\"CDH17\\\", \\\"CDH18\\\", \\\"CDH19\\\", \\\"CDH2\\\", \\\"CDH20\\\", \\\"CDH22\\\", \\\"CDH23\\\", \\\"CDH23-AS1\\\", \\\"CDH24\\\", \\\"CDH26\\\", \\\"CDH3\\\", \\\"CDH4\\\", \\\"CDH5\\\", \\\"CDH6\\\", \\\"CDH7\\\", \\\"CDH8\\\", \\\"CDH9\\\", \\\"CDHR1\\\", \\\"CDHR2\\\", \\\"CDHR3\\\", \\\"CDHR4\\\", \\\"CDHR5\\\", \\\"CDIP1\\\", \\\"CDIPT\\\", \\\"CDIPT-AS1\\\", \\\"CDK1\\\", \\\"CDK10\\\", \\\"CDK11A\\\", \\\"CDK11B\\\", \\\"CDK12\\\", \\\"CDK13\\\", \\\"CDK14\\\", \\\"CDK15\\\", \\\"CDK16\\\", \\\"CDK17\\\", \\\"CDK18\\\", \\\"CDK19\\\", \\\"CDK2\\\", \\\"CDK20\\\", \\\"CDK2AP1\\\", \\\"CDK2AP2\\\", \\\"CDK2AP2P1\\\", \\\"CDK2AP2P2\\\", \\\"CDK2AP2P3\\\", \\\"CDK3\\\", \\\"CDK4\\\", \\\"CDK5\\\", \\\"CDK5PS\\\", \\\"CDK5R1\\\", \\\"CDK5R2\\\", \\\"CDK5RAP1\\\", \\\"CDK5RAP2\\\", \\\"CDK5RAP3\\\", \\\"CDK6\\\", \\\"CDK7\\\", \\\"CDK8\\\", \\\"CDK9\\\", \\\"CDKAL1\\\", \\\"CDKL1\\\", \\\"CDKL2\\\", \\\"CDKL3\\\", \\\"CDKL4\\\", \\\"CDKL5\\\", \\\"CDKN1A\\\", \\\"CDKN1B\\\", \\\"CDKN1C\\\", \\\"CDKN2A\\\", \\\"CDKN2A-AS1\\\", \\\"CDKN2AIP\\\", \\\"CDKN2AIPNL\\\", \\\"CDKN2AIPNLP1\\\", \\\"CDKN2AIPNLP2\\\", \\\"CDKN2AIPNLP3\\\", \\\"CDKN2B\\\", \\\"CDKN2B-AS\\\", \\\"CDKN2B-AS1\\\", \\\"CDKN2B-AS_3\\\", \\\"CDKN2C\\\", \\\"CDKN2D\\\", \\\"CDKN3\\\", \\\"CDNF\\\", \\\"CDO1\\\", \\\"CDON\\\", \\\"CDPF1\\\", \\\"CDR1\\\", \\\"CDR1-AS\\\", \\\"CDR2\\\", \\\"CDR2L\\\", \\\"CDRT1\\\", \\\"CDRT15\\\", \\\"CDRT15L2\\\", \\\"CDRT15P1\\\", \\\"CDRT15P2\\\", \\\"CDRT4\\\", \\\"CDRT7\\\", \\\"CDRT8\\\", \\\"CDS1\\\", \\\"CDS2\\\", \\\"CDSN\\\", \\\"CDT1\\\", \\\"CDV3\\\", \\\"CDV3P1\\\", \\\"CDX1\\\", \\\"CDX2\\\", \\\"CDX4\\\", \\\"CDY1\\\", \\\"CDY10P\\\", \\\"CDY11P\\\", \\\"CDY12P\\\", \\\"CDY13P\\\", \\\"CDY14P\\\", \\\"CDY15P\\\", \\\"CDY17P\\\", \\\"CDY18P\\\", \\\"CDY19P\\\", \\\"CDY1B\\\", \\\"CDY20P\\\", \\\"CDY22P\\\", \\\"CDY23P\\\", \\\"CDY2A\\\", \\\"CDY2B\\\", \\\"CDY3P\\\", \\\"CDY4P\\\", \\\"CDY5P\\\", \\\"CDY6P\\\", \\\"CDY7P\\\", \\\"CDY8P\\\", \\\"CDY9P\\\", \\\"CDYL\\\", \\\"CDYL2\\\", \\\"CEACAM1\\\", \\\"CEACAM16\\\", \\\"CEACAM18\\\", \\\"CEACAM19\\\", \\\"CEACAM20\\\", \\\"CEACAM21\\\", \\\"CEACAM22P\\\", \\\"CEACAM3\\\", \\\"CEACAM4\\\", \\\"CEACAM5\\\", \\\"CEACAM6\\\", \\\"CEACAM7\\\", \\\"CEACAM8\\\", \\\"CEACAMP1\\\", \\\"CEACAMP10\\\", \\\"CEACAMP11\\\", \\\"CEACAMP2\\\", \\\"CEACAMP3\\\", \\\"CEACAMP4\\\", \\\"CEACAMP5\\\", \\\"CEACAMP6\\\", \\\"CEACAMP7\\\", \\\"CEACAMP8\\\", \\\"CEACAMP9\\\", \\\"CEBPA\\\", \\\"CEBPA-AS1\\\", \\\"CEBPB\\\", \\\"CEBPB-AS1\\\", \\\"CEBPD\\\", \\\"CEBPE\\\", \\\"CEBPG\\\", \\\"CEBPZ\\\", \\\"CEBPZOS\\\", \\\"CECR1\\\", \\\"CECR2\\\", \\\"CECR3\\\", \\\"CECR5\\\", \\\"CECR5-AS1\\\", \\\"CECR6\\\", \\\"CECR7\\\", \\\"CECR9\\\", \\\"CEL\\\", \\\"CELA1\\\", \\\"CELA2A\\\", \\\"CELA2B\\\", \\\"CELA3A\\\", \\\"CELA3B\\\", \\\"CELF1\\\", \\\"CELF2\\\", \\\"CELF2-AS1\\\", \\\"CELF2-AS2\\\", \\\"CELF3\\\", \\\"CELF4\\\", \\\"CELF5\\\", \\\"CELF6\\\", \\\"CELP\\\", \\\"CELSR1\\\", \\\"CELSR2\\\", \\\"CELSR3\\\", \\\"CELSR3-AS1\\\", \\\"CEMIP\\\", \\\"CEMP1\\\", \\\"CEND1\\\", \\\"CEND1P1\\\", \\\"CENPA\\\", \\\"CENPB\\\", \\\"CENPBD1\\\", \\\"CENPBD1P1\\\", \\\"CENPC\\\", \\\"CENPCP1\\\", \\\"CENPE\\\", \\\"CENPF\\\", \\\"CENPH\\\", \\\"CENPI\\\", \\\"CENPIP1\\\", \\\"CENPJ\\\", \\\"CENPK\\\", \\\"CENPL\\\", \\\"CENPM\\\", \\\"CENPN\\\", \\\"CENPO\\\", \\\"CENPP\\\", \\\"CENPQ\\\", \\\"CENPT\\\", \\\"CENPU\\\", \\\"CENPUP1\\\", \\\"CENPUP2\\\", \\\"CENPV\\\", \\\"CENPVP1\\\", \\\"CENPVP3\\\", \\\"CENPW\\\", \\\"CEP104\\\", \\\"CEP112\\\", \\\"CEP120\\\", \\\"CEP126\\\", \\\"CEP128\\\", \\\"CEP131\\\", \\\"CEP135\\\", \\\"CEP152\\\", \\\"CEP162\\\", \\\"CEP164\\\", \\\"CEP164P1\\\", \\\"CEP170\\\", \\\"CEP170B\\\", \\\"CEP170P1\\\", \\\"CEP19\\\", \\\"CEP192\\\", \\\"CEP250\\\", \\\"CEP290\\\", \\\"CEP295\\\", \\\"CEP295NL\\\", \\\"CEP350\\\", \\\"CEP41\\\", \\\"CEP44\\\", \\\"CEP55\\\", \\\"CEP57\\\", \\\"CEP57L1\\\", \\\"CEP57L1P1\\\", \\\"CEP63\\\", \\\"CEP68\\\", \\\"CEP70\\\", \\\"CEP72\\\", \\\"CEP76\\\", \\\"CEP78\\\", \\\"CEP83\\\", \\\"CEP83-AS1\\\", \\\"CEP85\\\", \\\"CEP85L\\\", \\\"CEP89\\\", \\\"CEP95\\\", \\\"CEP97\\\", \\\"CEPT1\\\", \\\"CER1\\\", \\\"CERCAM\\\", \\\"CERK\\\", \\\"CERKL\\\", \\\"CERS1\\\", \\\"CERS2\\\", \\\"CERS3\\\", \\\"CERS3-AS1\\\", \\\"CERS4\\\", \\\"CERS5\\\", \\\"CERS6\\\", \\\"CERS6-AS1\\\", \\\"CES1\\\", \\\"CES1P1\\\", \\\"CES1P2\\\", \\\"CES2\\\", \\\"CES3\\\", \\\"CES4A\\\", \\\"CES5A\\\", \\\"CES5AP1\\\", \\\"CETN1\\\", \\\"CETN2\\\", \\\"CETN3\\\", \\\"CETN4P\\\", \\\"CETP\\\", \\\"CFAP126\\\", \\\"CFAP20\\\", \\\"CFAP221\\\", \\\"CFAP36\\\", \\\"CFAP43\\\", \\\"CFAP44\\\", \\\"CFAP44-AS1\\\", \\\"CFAP45\\\", \\\"CFAP46\\\", \\\"CFAP47\\\", \\\"CFAP52\\\", \\\"CFAP53\\\", \\\"CFAP54\\\", \\\"CFAP57\\\", \\\"CFAP58\\\", \\\"CFAP58-AS1\\\", \\\"CFAP61\\\", \\\"CFAP69\\\", \\\"CFAP70\\\", \\\"CFAP74\\\", \\\"CFAP97\\\", \\\"CFAP99\\\", \\\"CFB\\\", \\\"CFC1\\\", \\\"CFC1B\\\", \\\"CFD\\\", \\\"CFDP1\\\", \\\"CFH\\\", \\\"CFHR1\\\", \\\"CFHR2\\\", \\\"CFHR3\\\", \\\"CFHR4\\\", \\\"CFHR5\\\", \\\"CFI\\\", \\\"CFL1\\\", \\\"CFL1P1\\\", \\\"CFL1P2\\\", \\\"CFL1P3\\\", \\\"CFL1P4\\\", \\\"CFL1P5\\\", \\\"CFL1P6\\\", \\\"CFL1P7\\\", \\\"CFL1P8\\\", \\\"CFL2\\\", \\\"CFLAR\\\", \\\"CFLAR-AS1\\\", \\\"CFP\\\", \\\"CFTR\\\", \\\"CFTRP1\\\", \\\"CFTRP3\\\", \\\"CGA\\\", \\\"CGB\\\", \\\"CGB1\\\", \\\"CGB2\\\", \\\"CGB5\\\", \\\"CGB7\\\", \\\"CGB8\\\", \\\"CGGBP1\\\", \\\"CGN\\\", \\\"CGNL1\\\", \\\"CGREF1\\\", \\\"CGRRF1\\\", \\\"CH17-118O6.3\\\", \\\"CH17-118O6.4\\\", \\\"CH17-125A10.1\\\", \\\"CH17-125A10.2\\\", \\\"CH17-128G5.1\\\", \\\"CH17-12M21.1\\\", \\\"CH17-132F21.4\\\", \\\"CH17-132F21.5\\\", \\\"CH17-13I23.1\\\", \\\"CH17-13I23.2\\\", \\\"CH17-13I23.3\\\", \\\"CH17-140K24.1\\\", \\\"CH17-140K24.2\\\", \\\"CH17-140K24.3\\\", \\\"CH17-140K24.4\\\", \\\"CH17-140K24.5\\\", \\\"CH17-140K24.6\\\", \\\"CH17-140K24.7\\\", \\\"CH17-140K24.8\\\", \\\"CH17-164J11.1\\\", \\\"CH17-174L20.1\\\", \\\"CH17-189H20.1\\\", \\\"CH17-212P11.4\\\", \\\"CH17-212P11.5\\\", \\\"CH17-212P11.6\\\", \\\"CH17-219N22.1\\\", \\\"CH17-224D4.1\\\", \\\"CH17-224D4.2\\\", \\\"CH17-232I21.1\\\", \\\"CH17-248H7.2\\\", \\\"CH17-248H7.3\\\", \\\"CH17-258A22.4\\\", \\\"CH17-260O16.1\\\", \\\"CH17-262A2.1\\\", \\\"CH17-262H11.1\\\", \\\"CH17-262O2.1\\\", \\\"CH17-262O2.2\\\", \\\"CH17-264B6.3\\\", \\\"CH17-264B6.4\\\", \\\"CH17-264L24.1\\\", \\\"CH17-270A2.1\\\", \\\"CH17-270A2.2\\\", \\\"CH17-302M23.1\\\", \\\"CH17-31A6.1\\\", \\\"CH17-333M13.1\\\", \\\"CH17-333M13.2\\\", \\\"CH17-335B8.4\\\", \\\"CH17-340M24.3\\\", \\\"CH17-351M24.1\\\", \\\"CH17-353B19.1\\\", \\\"CH17-360D5.1\\\", \\\"CH17-360D5.2\\\", \\\"CH17-360D5.3\\\", \\\"CH17-373J23.1\\\", \\\"CH17-385C13.2\\\", \\\"CH17-38B12.4\\\", \\\"CH17-408M7.1\\\", \\\"CH17-409J4.2\\\", \\\"CH17-431G21.1\\\", \\\"CH17-437K3.1\\\", \\\"CH17-472G23.1\\\", \\\"CH17-472G23.2\\\", \\\"CH17-472G23.4\\\", \\\"CH17-478G19.2\\\", \\\"CH17-53B9.2\\\", \\\"CH17-53B9.4\\\", \\\"CH17-76K2.6\\\", \\\"CH17-78J1.1\\\", \\\"CH17-80A12.1\\\", \\\"CH25H\\\", \\\"CH507-145C22.1\\\", \\\"CH507-145C22.2\\\", \\\"CH507-145C22.3\\\", \\\"CH507-145C22.4\\\", \\\"CH507-152C13.1\\\", \\\"CH507-152C13.3\\\", \\\"CH507-152C13.4\\\", \\\"CH507-152C13.5\\\", \\\"CH507-152C13.6\\\", \\\"CH507-154B10.1\\\", \\\"CH507-154B10.2\\\", \\\"CH507-154B10.3\\\", \\\"CH507-210P18.1\\\", \\\"CH507-210P18.3\\\", \\\"CH507-210P18.4\\\", \\\"CH507-210P18.5\\\", \\\"CH507-216K13.1\\\", \\\"CH507-216K13.2\\\", \\\"CH507-236L23.1\\\", \\\"CH507-236L23.2\\\", \\\"CH507-236L23.3\\\", \\\"CH507-236L23.4\\\", \\\"CH507-236L23.5\\\", \\\"CH507-24F1.1\\\", \\\"CH507-24F1.2\\\", \\\"CH507-254M2.1\\\", \\\"CH507-254M2.2\\\", \\\"CH507-254M2.3\\\", \\\"CH507-254M2.4\\\", \\\"CH507-254M2.5\\\", \\\"CH507-254M2.6\\\", \\\"CH507-338C24.1\\\", \\\"CH507-338C24.2\\\", \\\"CH507-338C24.3\\\", \\\"CH507-396I9.3\\\", \\\"CH507-396I9.6\\\", \\\"CH507-396I9.7\\\", \\\"CH507-39O4.1\\\", \\\"CH507-39O4.2\\\", \\\"CH507-39O4.3\\\", \\\"CH507-42P11.1\\\", \\\"CH507-42P11.2\\\", \\\"CH507-42P11.3\\\", \\\"CH507-42P11.5\\\", \\\"CH507-42P11.6\\\", \\\"CH507-42P11.7\\\", \\\"CH507-42P11.8\\\", \\\"CH507-513H4.1\\\", \\\"CH507-513H4.3\\\", \\\"CH507-513H4.4\\\", \\\"CH507-513H4.5\\\", \\\"CH507-513H4.6\\\", \\\"CH507-528H12.1\\\", \\\"CH507-9B2.2\\\", \\\"CH507-9B2.3\\\", \\\"CH507-9B2.4\\\", \\\"CH507-9B2.5\\\", \\\"CH507-9B2.8\\\", \\\"CH507-9B2.9\\\", \\\"CHAC1\\\", \\\"CHAC2\\\", \\\"CHAD\\\", \\\"CHADL\\\", \\\"CHAF1A\\\", \\\"CHAF1B\\\", \\\"CHAMP1\\\", \\\"CHAT\\\", \\\"CHCHD1\\\", \\\"CHCHD10\\\", \\\"CHCHD2\\\", \\\"CHCHD2P1\\\", \\\"CHCHD2P11\\\", \\\"CHCHD2P2\\\", \\\"CHCHD2P3\\\", \\\"CHCHD2P4\\\", \\\"CHCHD2P5\\\", \\\"CHCHD2P6\\\", \\\"CHCHD2P7\\\", \\\"CHCHD2P8\\\", \\\"CHCHD2P9\\\", \\\"CHCHD3\\\", \\\"CHCHD3P1\\\", \\\"CHCHD3P2\\\", \\\"CHCHD3P3\\\", \\\"CHCHD4\\\", \\\"CHCHD4P2\\\", \\\"CHCHD4P3\\\", \\\"CHCHD4P4\\\", \\\"CHCHD4P5\\\", \\\"CHCHD5\\\", \\\"CHCHD6\\\", \\\"CHCHD7\\\", \\\"CHD1\\\", \\\"CHD1L\\\", \\\"CHD2\\\", \\\"CHD3\\\", \\\"CHD4\\\", \\\"CHD5\\\", \\\"CHD6\\\", \\\"CHD7\\\", \\\"CHD8\\\", \\\"CHD9\\\", \\\"CHDH\\\", \\\"CHEK1\\\", \\\"CHEK2\\\", \\\"CHEK2P2\\\", \\\"CHEK2P3\\\", \\\"CHEK2P4\\\", \\\"CHEK2P5\\\", \\\"CHERP\\\", \\\"CHFR\\\", \\\"CHGA\\\", \\\"CHGB\\\", \\\"CHI3L1\\\", \\\"CHI3L2\\\", \\\"CHIA\\\", \\\"CHIAP1\\\", \\\"CHIAP2\\\", \\\"CHIAP3\\\", \\\"CHIC1\\\", \\\"CHIC2\\\", \\\"CHID1\\\", \\\"CHIT1\\\", \\\"CHKA\\\", \\\"CHKB\\\", \\\"CHKB-AS1\\\", \\\"CHKB-CPT1B\\\", \\\"CHL1\\\", \\\"CHL1-AS1\\\", \\\"CHL1-AS2\\\", \\\"CHM\\\", \\\"CHML\\\", \\\"CHMP1A\\\", \\\"CHMP1AP1\\\", \\\"CHMP1B\\\", \\\"CHMP1B2P\\\", \\\"CHMP2A\\\", \\\"CHMP2B\\\", \\\"CHMP3\\\", \\\"CHMP4A\\\", \\\"CHMP4B\\\", \\\"CHMP4BP1\\\", \\\"CHMP4C\\\", \\\"CHMP5\\\", \\\"CHMP6\\\", \\\"CHMP7\\\", \\\"CHN1\\\", \\\"CHN2\\\", \\\"CHODL\\\", \\\"CHODL-AS1\\\", \\\"CHORDC1\\\", \\\"CHORDC2P\\\", \\\"CHP1\\\", \\\"CHP2\\\", \\\"CHPF\\\", \\\"CHPF2\\\", \\\"CHPT1\\\", \\\"CHRAC1\\\", \\\"CHRD\\\", \\\"CHRDL1\\\", \\\"CHRDL2\\\", \\\"CHRFAM7A\\\", \\\"CHRM1\\\", \\\"CHRM2\\\", \\\"CHRM3\\\", \\\"CHRM3-AS1\\\", \\\"CHRM3-AS2\\\", \\\"CHRM4\\\", \\\"CHRM5\\\", \\\"CHRNA1\\\", \\\"CHRNA10\\\", \\\"CHRNA2\\\"]}])])\""
      ]
     },
     "metadata": {},
     "output_type": "display_data"
    }
   ],
   "source": [
    "features_query <- features_table[9000:10000]\n",
    "samples_query <- samples_table[0:10]\n",
    "query <- fn$identity(fetch_template)\n",
    "query"
   ]
  },
  {
   "cell_type": "markdown",
   "metadata": {},
   "source": [
    "Now, with a fully formed query, we can request the weights."
   ]
  },
  {
   "cell_type": "code",
   "execution_count": 222,
   "metadata": {
    "collapsed": false
   },
   "outputs": [
    {
     "data": {
      "text/plain": [
       "Response [https://toil.xenahubs.net/data/]\n",
       "  Date: 2017-05-10 23:45\n",
       "  Status: 200\n",
       "  Content-Type: application/json;charset=UTF-8\n",
       "  Size: 82.5 kB\n"
      ]
     },
     "metadata": {},
     "output_type": "display_data"
    },
    {
     "data": {
      "text/html": [
       "<table>\n",
       "<tbody>\n",
       "\t<tr><td>6.3605, 7.2454, 6.4133, 6.5235, 5.9171, 6.5314, 7.9468, 7.6677, 6.8897, 6.8016</td></tr>\n",
       "\t<tr><td>2.3196, 3.1110, 0.8453, 0.6406, 5.1923, 5.9210, 4.2269, 4.0466, 2.5145, 1.3055</td></tr>\n",
       "\t<tr><td>10.6845, 8.7668, 7.4487, 7.2876, 10.2337, 8.3744, 8.3029, 9.6237, 8.9718, 8.1085</td></tr>\n",
       "\t<tr><td>3.3193, 5.2612, 0.0000, 0.0000, 0.0000, 6.1882, 5.6105, 1.1337, 0.7428, 0.0000</td></tr>\n",
       "\t<tr><td>3.3193, 5.9371, 4.9667, 1.6942, 0.8849, 5.0822, 3.5404, 2.3729, 2.3335, 4.3314</td></tr>\n",
       "\t<tr><td>4.9041, 4.5280, 6.3897, 5.9394, 6.2707, 7.0443, 7.4777, 5.1059, 5.8805, 6.9951</td></tr>\n",
       "\t<tr><td>0.0000, 0.0000, 0.0000, 0.0000, 0.0000, 0.0000, 0.6698, 0.0000, 0.0000, 0.7956</td></tr>\n",
       "\t<tr><td>8.9130, 7.8990, 9.4405, 8.7454, 10.5108, 7.2236, 9.5579, 7.8915, 9.5837, 8.8712</td></tr>\n",
       "\t<tr><td>3.1674, 1.8265, 3.0302, 2.7202, 2.1332, 1.0196, 2.6224, 3.3422, 1.5946, 2.2263</td></tr>\n",
       "\t<tr><td>4.5208, 2.6072, 5.1719, 3.8985, 5.0148, 5.1247, 3.3859, 3.9935, 3.2860, 4.7181</td></tr>\n",
       "\t<tr><td>0.0000, 0.0000, 0.0000, 1.1855, 0.0000, 1.8843, 0.0000, 0.0000, 1.5946, 2.0783</td></tr>\n",
       "\t<tr><td>5.7521, 5.1275, 6.2607, 4.7089, 5.9134, 5.0150, 4.9045, 5.5721, 3.7138, 5.3994</td></tr>\n",
       "\t<tr><td>8.2825, 7.0872, 6.0340, 4.0576, 10.4965, 9.8030, 9.8598, 6.5009, 2.8198, 6.7007</td></tr>\n",
       "\t<tr><td>6.0633, 6.4101, 5.1067, 6.7959, 5.9134, 7.9184, 6.9252, 6.9681, 6.5535, 7.1376</td></tr>\n",
       "\t<tr><td>0, 0, 0, 0, 0, 0, 0, 0, 0, 0</td></tr>\n",
       "\t<tr><td>0.0000, 3.9478, 5.0030, 1.4206, 0.8849, 4.5609, 4.5516, 3.3997, 1.5946, 3.2972</td></tr>\n",
       "\t<tr><td>10.0250, 9.4713, 9.8003, 8.3964, 9.1634, 9.7728, 9.4340, 9.7018, 10.6454, 8.8298</td></tr>\n",
       "\t<tr><td>0.9986, 1.7003, 0.0000, 0.0000, 0.0000, 0.0000, 1.3494, 1.4809, 3.1115, 0.0000</td></tr>\n",
       "\t<tr><td>6.3131, 8.1570, 7.1103, 7.3486, 6.4994, 9.1413, 7.4916, 8.4028, 6.0525, 7.3645</td></tr>\n",
       "\t<tr><td>0.0000, 1.4318, 0.8453, 1.9241, 0.0000, 3.1219, 3.8668, 0.0000, 0.0000, 0.0000</td></tr>\n",
       "\t<tr><td>0.0000, 2.9618, 5.0730, 1.0826, 0.0000, 7.6681, 1.7499, 2.6722, 3.1828, 0.0000</td></tr>\n",
       "\t<tr><td>0.0000, 0.0000, 0.0000, 0.0000, 0.0000, 0.0000, 0.0000, 1.1337, 0.7428, 0.0000</td></tr>\n",
       "\t<tr><td>5.6696, 5.9081, 7.4037, 7.9351, 6.5458, 7.1364, 8.7626, 6.7151, 7.2151, 8.7791</td></tr>\n",
       "\t<tr><td>8.0063, 6.5321, 7.2138, 2.7202, 7.3669, 7.6657, 8.2650, 7.4153, 8.0350, 5.0070</td></tr>\n",
       "\t<tr><td>5.7251, 7.0507, 0.8453, 2.2965, 2.3878, 4.0366, 2.1843, 6.7927, 7.2206, 5.5878</td></tr>\n",
       "\t<tr><td>0, 0, 0, 0, 0, 0, 0, 0, 0, 0</td></tr>\n",
       "\t<tr><td>6.0518, 4.9570, 7.4222, 4.1907, 4.4279, 5.4328, 6.6309, 5.7864, 5.1568, 3.5868</td></tr>\n",
       "\t<tr><td>3.8047, 5.7677, 5.6127, 7.3264, 5.9134, 5.4699, 6.5366, 6.2296, 6.2565, 4.4258</td></tr>\n",
       "\t<tr><td>10.4555, 7.1228, 8.5796, 2.8377, 2.7923, 5.5927, 4.3574, 5.7427, 1.5946, 5.6941</td></tr>\n",
       "\t<tr><td>2.8049, 0.0000, 0.0000, 1.0826, 0.0000, 0.5981, 0.6698, 2.6722, 0.0000, 0.7956</td></tr>\n",
       "\t<tr><td>⋮</td></tr>\n",
       "\t<tr><td>8.1968, 8.7038, 4.3865, 9.6095, 9.5514, 9.6791, 11.0309, 9.6630, 2.8198, 9.3196</td></tr>\n",
       "\t<tr><td>10.2986, 11.0440, 10.5340, 12.2281, 10.9744, 11.4017, 11.0963, 11.3775, 10.7106, 12.6104</td></tr>\n",
       "\t<tr><td>9.6712, 9.7930, 10.1401, 9.2240, 10.7567, 9.5197, 11.1125, 10.2217, 9.6705, 10.0801</td></tr>\n",
       "\t<tr><td>11.0483, 10.6548, 10.7990, 10.5067, 9.6641, 10.7372, 10.7633, 10.5924, 11.1169, 11.0369</td></tr>\n",
       "\t<tr><td>10.0538, 9.8028, 9.1339, 7.2683, 7.3760, 9.4398, 8.8025, 9.8649, 11.8166, 9.4082</td></tr>\n",
       "\t<tr><td>5.9744, 8.4751, 6.6407, 4.2393, 11.3926, 7.9725, 6.1679, 10.0523, 7.7626, 6.0228</td></tr>\n",
       "\t<tr><td>2.5826, 5.2612, 7.7122, 2.8377, 0.0000, 6.9455, 1.7499, 2.6722, 3.9204, 4.8189</td></tr>\n",
       "\t<tr><td>0.0000, 0.0000, 0.0000, 0.0000, 0.0000, 1.3455, 0.0000, 0.0000, 0.0000, 0.0000</td></tr>\n",
       "\t<tr><td>10.9710, 8.8901, 10.9618, 10.4182, 9.2951, 9.3894, 8.9437, 9.5670, 8.4615, 10.5847</td></tr>\n",
       "\t<tr><td>1.5830, 0.0000, 1.3747, 1.0826, 0.0000, 0.0000, 0.0000, 0.0000, 0.0000, 0.7956</td></tr>\n",
       "\t<tr><td>11.5019, 12.6269, 11.5482, 12.1719, 12.1892, 12.3164, 12.7745, 12.0265, 12.2434, 11.3108</td></tr>\n",
       "\t<tr><td>0.0000, 3.3699, 0.8453, 8.2791, 0.0000, 1.0196, 0.0000, 0.0000, 0.0000, 0.0000</td></tr>\n",
       "\t<tr><td>14.1504, 12.8566, 13.6442, 11.9883, 11.6160, 10.5482, 11.9071, 12.7201, 11.3023, 12.4755</td></tr>\n",
       "\t<tr><td>12.6109, 11.6088, 11.7068, 12.1701, 10.9937, 10.6274, 10.8682, 12.0573, 12.1738, 12.3099</td></tr>\n",
       "\t<tr><td>11.1014, 9.9159, 9.5048, 8.2299, 12.4278, 12.1590, 11.9533, 11.5561, 11.6939, 9.1691</td></tr>\n",
       "\t<tr><td>11.3508, 10.1880, 10.0656, 10.8547, 10.4957, 10.2744, 10.9144, 10.4537, 10.4502, 10.7549</td></tr>\n",
       "\t<tr><td>8.9484, 8.6711, 7.8280, 5.4608, 11.7594, 8.3289, 7.8908, 7.9024, 8.5856, 6.6381</td></tr>\n",
       "\t<tr><td>0.9986, 7.5977, 6.1679, 1.4206, 3.3665, 14.0057, 6.4570, 7.9623, 14.8767, 8.6617</td></tr>\n",
       "\t<tr><td>0.9986, 5.1275, 7.7122, 8.5267, 6.7046, 5.4975, 2.9067, 3.1313, 1.2307, 7.6679</td></tr>\n",
       "\t<tr><td>6.0122, 6.2262, 4.6476, 0.0000, 2.1332, 6.2477, 4.2405, 7.8357, 2.9810, 3.8257</td></tr>\n",
       "\t<tr><td>0.0000, 3.3699, 2.0657, 1.0826, 0.0000, 7.1328, 3.4061, 1.1337, 0.7428, 4.8561</td></tr>\n",
       "\t<tr><td>4.0848, 1.8265, 2.0657, 3.9573, 1.4295, 0.5981, 0.6698, 0.0000, 0.0000, 0.0000</td></tr>\n",
       "\t<tr><td>0.0000, 5.7677, 6.2904, 4.7089, 7.8850, 6.4564, 1.7499, 7.8209, 8.7593, 8.8128</td></tr>\n",
       "\t<tr><td>0.0000, 0.8867, 0.0000, 0.0000, 0.0000, 0.0000, 0.0000, 0.0000, 0.0000, 0.7956</td></tr>\n",
       "\t<tr><td>0.0000, 3.1110, 1.7612, 4.2393, 2.7923, 0.5981, 1.1255, 3.6940, 5.3950, 2.6583</td></tr>\n",
       "\t<tr><td>1.5830, 3.3699, 3.0302, 1.6942, 0.8849, 2.3532, 3.3019, 2.5303, 1.5946, 1.3055</td></tr>\n",
       "\t<tr><td>1.9978, 2.6072, 3.0302, 2.2965, 4.7226, 3.5592, 1.1255, 2.5303, 3.9832, 1.6814</td></tr>\n",
       "\t<tr><td>1.5830, 4.4739, 1.7612, 0.6406, 2.9586, 0.5981, 3.9792, 3.8810, 2.5145, 3.5895</td></tr>\n",
       "\t<tr><td>5.2826, 4.2983, 5.6550, 4.0576, 3.6842, 4.3224, 4.8758, 4.7375, 4.2101, 4.3314</td></tr>\n",
       "\t<tr><td>10.2319, 1.4318, 0.0000, 0.0000, 0.0000, 3.9433, 0.6698, 1.1337, 0.0000, 0.0000</td></tr>\n",
       "</tbody>\n",
       "</table>\n"
      ],
      "text/latex": [
       "\\begin{tabular}{l}\n",
       "\t 6.3605, 7.2454, 6.4133, 6.5235, 5.9171, 6.5314, 7.9468, 7.6677, 6.8897, 6.8016\\\\\n",
       "\t 2.3196, 3.1110, 0.8453, 0.6406, 5.1923, 5.9210, 4.2269, 4.0466, 2.5145, 1.3055\\\\\n",
       "\t 10.6845, 8.7668, 7.4487, 7.2876, 10.2337, 8.3744, 8.3029, 9.6237, 8.9718, 8.1085\\\\\n",
       "\t 3.3193, 5.2612, 0.0000, 0.0000, 0.0000, 6.1882, 5.6105, 1.1337, 0.7428, 0.0000\\\\\n",
       "\t 3.3193, 5.9371, 4.9667, 1.6942, 0.8849, 5.0822, 3.5404, 2.3729, 2.3335, 4.3314\\\\\n",
       "\t 4.9041, 4.5280, 6.3897, 5.9394, 6.2707, 7.0443, 7.4777, 5.1059, 5.8805, 6.9951\\\\\n",
       "\t 0.0000, 0.0000, 0.0000, 0.0000, 0.0000, 0.0000, 0.6698, 0.0000, 0.0000, 0.7956\\\\\n",
       "\t 8.9130, 7.8990, 9.4405, 8.7454, 10.5108, 7.2236, 9.5579, 7.8915, 9.5837, 8.8712\\\\\n",
       "\t 3.1674, 1.8265, 3.0302, 2.7202, 2.1332, 1.0196, 2.6224, 3.3422, 1.5946, 2.2263\\\\\n",
       "\t 4.5208, 2.6072, 5.1719, 3.8985, 5.0148, 5.1247, 3.3859, 3.9935, 3.2860, 4.7181\\\\\n",
       "\t 0.0000, 0.0000, 0.0000, 1.1855, 0.0000, 1.8843, 0.0000, 0.0000, 1.5946, 2.0783\\\\\n",
       "\t 5.7521, 5.1275, 6.2607, 4.7089, 5.9134, 5.0150, 4.9045, 5.5721, 3.7138, 5.3994\\\\\n",
       "\t 8.2825, 7.0872, 6.0340, 4.0576, 10.4965, 9.8030, 9.8598, 6.5009, 2.8198, 6.7007\\\\\n",
       "\t 6.0633, 6.4101, 5.1067, 6.7959, 5.9134, 7.9184, 6.9252, 6.9681, 6.5535, 7.1376\\\\\n",
       "\t 0, 0, 0, 0, 0, 0, 0, 0, 0, 0\\\\\n",
       "\t 0.0000, 3.9478, 5.0030, 1.4206, 0.8849, 4.5609, 4.5516, 3.3997, 1.5946, 3.2972\\\\\n",
       "\t 10.0250, 9.4713, 9.8003, 8.3964, 9.1634, 9.7728, 9.4340, 9.7018, 10.6454, 8.8298\\\\\n",
       "\t 0.9986, 1.7003, 0.0000, 0.0000, 0.0000, 0.0000, 1.3494, 1.4809, 3.1115, 0.0000\\\\\n",
       "\t 6.3131, 8.1570, 7.1103, 7.3486, 6.4994, 9.1413, 7.4916, 8.4028, 6.0525, 7.3645\\\\\n",
       "\t 0.0000, 1.4318, 0.8453, 1.9241, 0.0000, 3.1219, 3.8668, 0.0000, 0.0000, 0.0000\\\\\n",
       "\t 0.0000, 2.9618, 5.0730, 1.0826, 0.0000, 7.6681, 1.7499, 2.6722, 3.1828, 0.0000\\\\\n",
       "\t 0.0000, 0.0000, 0.0000, 0.0000, 0.0000, 0.0000, 0.0000, 1.1337, 0.7428, 0.0000\\\\\n",
       "\t 5.6696, 5.9081, 7.4037, 7.9351, 6.5458, 7.1364, 8.7626, 6.7151, 7.2151, 8.7791\\\\\n",
       "\t 8.0063, 6.5321, 7.2138, 2.7202, 7.3669, 7.6657, 8.2650, 7.4153, 8.0350, 5.0070\\\\\n",
       "\t 5.7251, 7.0507, 0.8453, 2.2965, 2.3878, 4.0366, 2.1843, 6.7927, 7.2206, 5.5878\\\\\n",
       "\t 0, 0, 0, 0, 0, 0, 0, 0, 0, 0\\\\\n",
       "\t 6.0518, 4.9570, 7.4222, 4.1907, 4.4279, 5.4328, 6.6309, 5.7864, 5.1568, 3.5868\\\\\n",
       "\t 3.8047, 5.7677, 5.6127, 7.3264, 5.9134, 5.4699, 6.5366, 6.2296, 6.2565, 4.4258\\\\\n",
       "\t 10.4555, 7.1228, 8.5796, 2.8377, 2.7923, 5.5927, 4.3574, 5.7427, 1.5946, 5.6941\\\\\n",
       "\t 2.8049, 0.0000, 0.0000, 1.0826, 0.0000, 0.5981, 0.6698, 2.6722, 0.0000, 0.7956\\\\\n",
       "\t ⋮\\\\\n",
       "\t 8.1968, 8.7038, 4.3865, 9.6095, 9.5514, 9.6791, 11.0309, 9.6630, 2.8198, 9.3196\\\\\n",
       "\t 10.2986, 11.0440, 10.5340, 12.2281, 10.9744, 11.4017, 11.0963, 11.3775, 10.7106, 12.6104\\\\\n",
       "\t 9.6712, 9.7930, 10.1401, 9.2240, 10.7567, 9.5197, 11.1125, 10.2217, 9.6705, 10.0801\\\\\n",
       "\t 11.0483, 10.6548, 10.7990, 10.5067, 9.6641, 10.7372, 10.7633, 10.5924, 11.1169, 11.0369\\\\\n",
       "\t 10.0538, 9.8028, 9.1339, 7.2683, 7.3760, 9.4398, 8.8025, 9.8649, 11.8166, 9.4082\\\\\n",
       "\t 5.9744, 8.4751, 6.6407, 4.2393, 11.3926, 7.9725, 6.1679, 10.0523, 7.7626, 6.0228\\\\\n",
       "\t 2.5826, 5.2612, 7.7122, 2.8377, 0.0000, 6.9455, 1.7499, 2.6722, 3.9204, 4.8189\\\\\n",
       "\t 0.0000, 0.0000, 0.0000, 0.0000, 0.0000, 1.3455, 0.0000, 0.0000, 0.0000, 0.0000\\\\\n",
       "\t 10.9710, 8.8901, 10.9618, 10.4182, 9.2951, 9.3894, 8.9437, 9.5670, 8.4615, 10.5847\\\\\n",
       "\t 1.5830, 0.0000, 1.3747, 1.0826, 0.0000, 0.0000, 0.0000, 0.0000, 0.0000, 0.7956\\\\\n",
       "\t 11.5019, 12.6269, 11.5482, 12.1719, 12.1892, 12.3164, 12.7745, 12.0265, 12.2434, 11.3108\\\\\n",
       "\t 0.0000, 3.3699, 0.8453, 8.2791, 0.0000, 1.0196, 0.0000, 0.0000, 0.0000, 0.0000\\\\\n",
       "\t 14.1504, 12.8566, 13.6442, 11.9883, 11.6160, 10.5482, 11.9071, 12.7201, 11.3023, 12.4755\\\\\n",
       "\t 12.6109, 11.6088, 11.7068, 12.1701, 10.9937, 10.6274, 10.8682, 12.0573, 12.1738, 12.3099\\\\\n",
       "\t 11.1014, 9.9159, 9.5048, 8.2299, 12.4278, 12.1590, 11.9533, 11.5561, 11.6939, 9.1691\\\\\n",
       "\t 11.3508, 10.1880, 10.0656, 10.8547, 10.4957, 10.2744, 10.9144, 10.4537, 10.4502, 10.7549\\\\\n",
       "\t 8.9484, 8.6711, 7.8280, 5.4608, 11.7594, 8.3289, 7.8908, 7.9024, 8.5856, 6.6381\\\\\n",
       "\t 0.9986, 7.5977, 6.1679, 1.4206, 3.3665, 14.0057, 6.4570, 7.9623, 14.8767, 8.6617\\\\\n",
       "\t 0.9986, 5.1275, 7.7122, 8.5267, 6.7046, 5.4975, 2.9067, 3.1313, 1.2307, 7.6679\\\\\n",
       "\t 6.0122, 6.2262, 4.6476, 0.0000, 2.1332, 6.2477, 4.2405, 7.8357, 2.9810, 3.8257\\\\\n",
       "\t 0.0000, 3.3699, 2.0657, 1.0826, 0.0000, 7.1328, 3.4061, 1.1337, 0.7428, 4.8561\\\\\n",
       "\t 4.0848, 1.8265, 2.0657, 3.9573, 1.4295, 0.5981, 0.6698, 0.0000, 0.0000, 0.0000\\\\\n",
       "\t 0.0000, 5.7677, 6.2904, 4.7089, 7.8850, 6.4564, 1.7499, 7.8209, 8.7593, 8.8128\\\\\n",
       "\t 0.0000, 0.8867, 0.0000, 0.0000, 0.0000, 0.0000, 0.0000, 0.0000, 0.0000, 0.7956\\\\\n",
       "\t 0.0000, 3.1110, 1.7612, 4.2393, 2.7923, 0.5981, 1.1255, 3.6940, 5.3950, 2.6583\\\\\n",
       "\t 1.5830, 3.3699, 3.0302, 1.6942, 0.8849, 2.3532, 3.3019, 2.5303, 1.5946, 1.3055\\\\\n",
       "\t 1.9978, 2.6072, 3.0302, 2.2965, 4.7226, 3.5592, 1.1255, 2.5303, 3.9832, 1.6814\\\\\n",
       "\t 1.5830, 4.4739, 1.7612, 0.6406, 2.9586, 0.5981, 3.9792, 3.8810, 2.5145, 3.5895\\\\\n",
       "\t 5.2826, 4.2983, 5.6550, 4.0576, 3.6842, 4.3224, 4.8758, 4.7375, 4.2101, 4.3314\\\\\n",
       "\t 10.2319, 1.4318, 0.0000, 0.0000, 0.0000, 3.9433, 0.6698, 1.1337, 0.0000, 0.0000\\\\\n",
       "\\end{tabular}\n"
      ],
      "text/markdown": [
       "\n",
       "| 6.3605, 7.2454, 6.4133, 6.5235, 5.9171, 6.5314, 7.9468, 7.6677, 6.8897, 6.8016 | \n",
       "| 2.3196, 3.1110, 0.8453, 0.6406, 5.1923, 5.9210, 4.2269, 4.0466, 2.5145, 1.3055 | \n",
       "| 10.6845, 8.7668, 7.4487, 7.2876, 10.2337, 8.3744, 8.3029, 9.6237, 8.9718, 8.1085 | \n",
       "| 3.3193, 5.2612, 0.0000, 0.0000, 0.0000, 6.1882, 5.6105, 1.1337, 0.7428, 0.0000 | \n",
       "| 3.3193, 5.9371, 4.9667, 1.6942, 0.8849, 5.0822, 3.5404, 2.3729, 2.3335, 4.3314 | \n",
       "| 4.9041, 4.5280, 6.3897, 5.9394, 6.2707, 7.0443, 7.4777, 5.1059, 5.8805, 6.9951 | \n",
       "| 0.0000, 0.0000, 0.0000, 0.0000, 0.0000, 0.0000, 0.6698, 0.0000, 0.0000, 0.7956 | \n",
       "| 8.9130, 7.8990, 9.4405, 8.7454, 10.5108, 7.2236, 9.5579, 7.8915, 9.5837, 8.8712 | \n",
       "| 3.1674, 1.8265, 3.0302, 2.7202, 2.1332, 1.0196, 2.6224, 3.3422, 1.5946, 2.2263 | \n",
       "| 4.5208, 2.6072, 5.1719, 3.8985, 5.0148, 5.1247, 3.3859, 3.9935, 3.2860, 4.7181 | \n",
       "| 0.0000, 0.0000, 0.0000, 1.1855, 0.0000, 1.8843, 0.0000, 0.0000, 1.5946, 2.0783 | \n",
       "| 5.7521, 5.1275, 6.2607, 4.7089, 5.9134, 5.0150, 4.9045, 5.5721, 3.7138, 5.3994 | \n",
       "| 8.2825, 7.0872, 6.0340, 4.0576, 10.4965, 9.8030, 9.8598, 6.5009, 2.8198, 6.7007 | \n",
       "| 6.0633, 6.4101, 5.1067, 6.7959, 5.9134, 7.9184, 6.9252, 6.9681, 6.5535, 7.1376 | \n",
       "| 0, 0, 0, 0, 0, 0, 0, 0, 0, 0 | \n",
       "| 0.0000, 3.9478, 5.0030, 1.4206, 0.8849, 4.5609, 4.5516, 3.3997, 1.5946, 3.2972 | \n",
       "| 10.0250, 9.4713, 9.8003, 8.3964, 9.1634, 9.7728, 9.4340, 9.7018, 10.6454, 8.8298 | \n",
       "| 0.9986, 1.7003, 0.0000, 0.0000, 0.0000, 0.0000, 1.3494, 1.4809, 3.1115, 0.0000 | \n",
       "| 6.3131, 8.1570, 7.1103, 7.3486, 6.4994, 9.1413, 7.4916, 8.4028, 6.0525, 7.3645 | \n",
       "| 0.0000, 1.4318, 0.8453, 1.9241, 0.0000, 3.1219, 3.8668, 0.0000, 0.0000, 0.0000 | \n",
       "| 0.0000, 2.9618, 5.0730, 1.0826, 0.0000, 7.6681, 1.7499, 2.6722, 3.1828, 0.0000 | \n",
       "| 0.0000, 0.0000, 0.0000, 0.0000, 0.0000, 0.0000, 0.0000, 1.1337, 0.7428, 0.0000 | \n",
       "| 5.6696, 5.9081, 7.4037, 7.9351, 6.5458, 7.1364, 8.7626, 6.7151, 7.2151, 8.7791 | \n",
       "| 8.0063, 6.5321, 7.2138, 2.7202, 7.3669, 7.6657, 8.2650, 7.4153, 8.0350, 5.0070 | \n",
       "| 5.7251, 7.0507, 0.8453, 2.2965, 2.3878, 4.0366, 2.1843, 6.7927, 7.2206, 5.5878 | \n",
       "| 0, 0, 0, 0, 0, 0, 0, 0, 0, 0 | \n",
       "| 6.0518, 4.9570, 7.4222, 4.1907, 4.4279, 5.4328, 6.6309, 5.7864, 5.1568, 3.5868 | \n",
       "| 3.8047, 5.7677, 5.6127, 7.3264, 5.9134, 5.4699, 6.5366, 6.2296, 6.2565, 4.4258 | \n",
       "| 10.4555, 7.1228, 8.5796, 2.8377, 2.7923, 5.5927, 4.3574, 5.7427, 1.5946, 5.6941 | \n",
       "| 2.8049, 0.0000, 0.0000, 1.0826, 0.0000, 0.5981, 0.6698, 2.6722, 0.0000, 0.7956 | \n",
       "| ⋮ | \n",
       "| 8.1968, 8.7038, 4.3865, 9.6095, 9.5514, 9.6791, 11.0309, 9.6630, 2.8198, 9.3196 | \n",
       "| 10.2986, 11.0440, 10.5340, 12.2281, 10.9744, 11.4017, 11.0963, 11.3775, 10.7106, 12.6104 | \n",
       "| 9.6712, 9.7930, 10.1401, 9.2240, 10.7567, 9.5197, 11.1125, 10.2217, 9.6705, 10.0801 | \n",
       "| 11.0483, 10.6548, 10.7990, 10.5067, 9.6641, 10.7372, 10.7633, 10.5924, 11.1169, 11.0369 | \n",
       "| 10.0538, 9.8028, 9.1339, 7.2683, 7.3760, 9.4398, 8.8025, 9.8649, 11.8166, 9.4082 | \n",
       "| 5.9744, 8.4751, 6.6407, 4.2393, 11.3926, 7.9725, 6.1679, 10.0523, 7.7626, 6.0228 | \n",
       "| 2.5826, 5.2612, 7.7122, 2.8377, 0.0000, 6.9455, 1.7499, 2.6722, 3.9204, 4.8189 | \n",
       "| 0.0000, 0.0000, 0.0000, 0.0000, 0.0000, 1.3455, 0.0000, 0.0000, 0.0000, 0.0000 | \n",
       "| 10.9710, 8.8901, 10.9618, 10.4182, 9.2951, 9.3894, 8.9437, 9.5670, 8.4615, 10.5847 | \n",
       "| 1.5830, 0.0000, 1.3747, 1.0826, 0.0000, 0.0000, 0.0000, 0.0000, 0.0000, 0.7956 | \n",
       "| 11.5019, 12.6269, 11.5482, 12.1719, 12.1892, 12.3164, 12.7745, 12.0265, 12.2434, 11.3108 | \n",
       "| 0.0000, 3.3699, 0.8453, 8.2791, 0.0000, 1.0196, 0.0000, 0.0000, 0.0000, 0.0000 | \n",
       "| 14.1504, 12.8566, 13.6442, 11.9883, 11.6160, 10.5482, 11.9071, 12.7201, 11.3023, 12.4755 | \n",
       "| 12.6109, 11.6088, 11.7068, 12.1701, 10.9937, 10.6274, 10.8682, 12.0573, 12.1738, 12.3099 | \n",
       "| 11.1014, 9.9159, 9.5048, 8.2299, 12.4278, 12.1590, 11.9533, 11.5561, 11.6939, 9.1691 | \n",
       "| 11.3508, 10.1880, 10.0656, 10.8547, 10.4957, 10.2744, 10.9144, 10.4537, 10.4502, 10.7549 | \n",
       "| 8.9484, 8.6711, 7.8280, 5.4608, 11.7594, 8.3289, 7.8908, 7.9024, 8.5856, 6.6381 | \n",
       "| 0.9986, 7.5977, 6.1679, 1.4206, 3.3665, 14.0057, 6.4570, 7.9623, 14.8767, 8.6617 | \n",
       "| 0.9986, 5.1275, 7.7122, 8.5267, 6.7046, 5.4975, 2.9067, 3.1313, 1.2307, 7.6679 | \n",
       "| 6.0122, 6.2262, 4.6476, 0.0000, 2.1332, 6.2477, 4.2405, 7.8357, 2.9810, 3.8257 | \n",
       "| 0.0000, 3.3699, 2.0657, 1.0826, 0.0000, 7.1328, 3.4061, 1.1337, 0.7428, 4.8561 | \n",
       "| 4.0848, 1.8265, 2.0657, 3.9573, 1.4295, 0.5981, 0.6698, 0.0000, 0.0000, 0.0000 | \n",
       "| 0.0000, 5.7677, 6.2904, 4.7089, 7.8850, 6.4564, 1.7499, 7.8209, 8.7593, 8.8128 | \n",
       "| 0.0000, 0.8867, 0.0000, 0.0000, 0.0000, 0.0000, 0.0000, 0.0000, 0.0000, 0.7956 | \n",
       "| 0.0000, 3.1110, 1.7612, 4.2393, 2.7923, 0.5981, 1.1255, 3.6940, 5.3950, 2.6583 | \n",
       "| 1.5830, 3.3699, 3.0302, 1.6942, 0.8849, 2.3532, 3.3019, 2.5303, 1.5946, 1.3055 | \n",
       "| 1.9978, 2.6072, 3.0302, 2.2965, 4.7226, 3.5592, 1.1255, 2.5303, 3.9832, 1.6814 | \n",
       "| 1.5830, 4.4739, 1.7612, 0.6406, 2.9586, 0.5981, 3.9792, 3.8810, 2.5145, 3.5895 | \n",
       "| 5.2826, 4.2983, 5.6550, 4.0576, 3.6842, 4.3224, 4.8758, 4.7375, 4.2101, 4.3314 | \n",
       "| 10.2319, 1.4318, 0.0000, 0.0000, 0.0000, 3.9433, 0.6698, 1.1337, 0.0000, 0.0000 | \n",
       "\n",
       "\n"
      ],
      "text/plain": [
       "      [,1]                                                                                    \n",
       " [1,] 6.3605, 7.2454, 6.4133, 6.5235, 5.9171, 6.5314, 7.9468, 7.6677, 6.8897, 6.8016          \n",
       " [2,] 2.3196, 3.1110, 0.8453, 0.6406, 5.1923, 5.9210, 4.2269, 4.0466, 2.5145, 1.3055          \n",
       " [3,] 10.6845, 8.7668, 7.4487, 7.2876, 10.2337, 8.3744, 8.3029, 9.6237, 8.9718, 8.1085        \n",
       " [4,] 3.3193, 5.2612, 0.0000, 0.0000, 0.0000, 6.1882, 5.6105, 1.1337, 0.7428, 0.0000          \n",
       " [5,] 3.3193, 5.9371, 4.9667, 1.6942, 0.8849, 5.0822, 3.5404, 2.3729, 2.3335, 4.3314          \n",
       " [6,] 4.9041, 4.5280, 6.3897, 5.9394, 6.2707, 7.0443, 7.4777, 5.1059, 5.8805, 6.9951          \n",
       " [7,] 0.0000, 0.0000, 0.0000, 0.0000, 0.0000, 0.0000, 0.6698, 0.0000, 0.0000, 0.7956          \n",
       " [8,] 8.9130, 7.8990, 9.4405, 8.7454, 10.5108, 7.2236, 9.5579, 7.8915, 9.5837, 8.8712         \n",
       " [9,] 3.1674, 1.8265, 3.0302, 2.7202, 2.1332, 1.0196, 2.6224, 3.3422, 1.5946, 2.2263          \n",
       "[10,] 4.5208, 2.6072, 5.1719, 3.8985, 5.0148, 5.1247, 3.3859, 3.9935, 3.2860, 4.7181          \n",
       "[11,] 0.0000, 0.0000, 0.0000, 1.1855, 0.0000, 1.8843, 0.0000, 0.0000, 1.5946, 2.0783          \n",
       "[12,] 5.7521, 5.1275, 6.2607, 4.7089, 5.9134, 5.0150, 4.9045, 5.5721, 3.7138, 5.3994          \n",
       "[13,] 8.2825, 7.0872, 6.0340, 4.0576, 10.4965, 9.8030, 9.8598, 6.5009, 2.8198, 6.7007         \n",
       "[14,] 6.0633, 6.4101, 5.1067, 6.7959, 5.9134, 7.9184, 6.9252, 6.9681, 6.5535, 7.1376          \n",
       "[15,] 0, 0, 0, 0, 0, 0, 0, 0, 0, 0                                                            \n",
       "[16,] 0.0000, 3.9478, 5.0030, 1.4206, 0.8849, 4.5609, 4.5516, 3.3997, 1.5946, 3.2972          \n",
       "[17,] 10.0250, 9.4713, 9.8003, 8.3964, 9.1634, 9.7728, 9.4340, 9.7018, 10.6454, 8.8298        \n",
       "[18,] 0.9986, 1.7003, 0.0000, 0.0000, 0.0000, 0.0000, 1.3494, 1.4809, 3.1115, 0.0000          \n",
       "[19,] 6.3131, 8.1570, 7.1103, 7.3486, 6.4994, 9.1413, 7.4916, 8.4028, 6.0525, 7.3645          \n",
       "[20,] 0.0000, 1.4318, 0.8453, 1.9241, 0.0000, 3.1219, 3.8668, 0.0000, 0.0000, 0.0000          \n",
       "[21,] 0.0000, 2.9618, 5.0730, 1.0826, 0.0000, 7.6681, 1.7499, 2.6722, 3.1828, 0.0000          \n",
       "[22,] 0.0000, 0.0000, 0.0000, 0.0000, 0.0000, 0.0000, 0.0000, 1.1337, 0.7428, 0.0000          \n",
       "[23,] 5.6696, 5.9081, 7.4037, 7.9351, 6.5458, 7.1364, 8.7626, 6.7151, 7.2151, 8.7791          \n",
       "[24,] 8.0063, 6.5321, 7.2138, 2.7202, 7.3669, 7.6657, 8.2650, 7.4153, 8.0350, 5.0070          \n",
       "[25,] 5.7251, 7.0507, 0.8453, 2.2965, 2.3878, 4.0366, 2.1843, 6.7927, 7.2206, 5.5878          \n",
       "[26,] 0, 0, 0, 0, 0, 0, 0, 0, 0, 0                                                            \n",
       "[27,] 6.0518, 4.9570, 7.4222, 4.1907, 4.4279, 5.4328, 6.6309, 5.7864, 5.1568, 3.5868          \n",
       "[28,] 3.8047, 5.7677, 5.6127, 7.3264, 5.9134, 5.4699, 6.5366, 6.2296, 6.2565, 4.4258          \n",
       "[29,] 10.4555, 7.1228, 8.5796, 2.8377, 2.7923, 5.5927, 4.3574, 5.7427, 1.5946, 5.6941         \n",
       "[30,] 2.8049, 0.0000, 0.0000, 1.0826, 0.0000, 0.5981, 0.6698, 2.6722, 0.0000, 0.7956          \n",
       "[31,] ⋮                                                                                       \n",
       "[32,] 8.1968, 8.7038, 4.3865, 9.6095, 9.5514, 9.6791, 11.0309, 9.6630, 2.8198, 9.3196         \n",
       "[33,] 10.2986, 11.0440, 10.5340, 12.2281, 10.9744, 11.4017, 11.0963, 11.3775, 10.7106, 12.6104\n",
       "[34,] 9.6712, 9.7930, 10.1401, 9.2240, 10.7567, 9.5197, 11.1125, 10.2217, 9.6705, 10.0801     \n",
       "[35,] 11.0483, 10.6548, 10.7990, 10.5067, 9.6641, 10.7372, 10.7633, 10.5924, 11.1169, 11.0369 \n",
       "[36,] 10.0538, 9.8028, 9.1339, 7.2683, 7.3760, 9.4398, 8.8025, 9.8649, 11.8166, 9.4082        \n",
       "[37,] 5.9744, 8.4751, 6.6407, 4.2393, 11.3926, 7.9725, 6.1679, 10.0523, 7.7626, 6.0228        \n",
       "[38,] 2.5826, 5.2612, 7.7122, 2.8377, 0.0000, 6.9455, 1.7499, 2.6722, 3.9204, 4.8189          \n",
       "[39,] 0.0000, 0.0000, 0.0000, 0.0000, 0.0000, 1.3455, 0.0000, 0.0000, 0.0000, 0.0000          \n",
       "[40,] 10.9710, 8.8901, 10.9618, 10.4182, 9.2951, 9.3894, 8.9437, 9.5670, 8.4615, 10.5847      \n",
       "[41,] 1.5830, 0.0000, 1.3747, 1.0826, 0.0000, 0.0000, 0.0000, 0.0000, 0.0000, 0.7956          \n",
       "[42,] 11.5019, 12.6269, 11.5482, 12.1719, 12.1892, 12.3164, 12.7745, 12.0265, 12.2434, 11.3108\n",
       "[43,] 0.0000, 3.3699, 0.8453, 8.2791, 0.0000, 1.0196, 0.0000, 0.0000, 0.0000, 0.0000          \n",
       "[44,] 14.1504, 12.8566, 13.6442, 11.9883, 11.6160, 10.5482, 11.9071, 12.7201, 11.3023, 12.4755\n",
       "[45,] 12.6109, 11.6088, 11.7068, 12.1701, 10.9937, 10.6274, 10.8682, 12.0573, 12.1738, 12.3099\n",
       "[46,] 11.1014, 9.9159, 9.5048, 8.2299, 12.4278, 12.1590, 11.9533, 11.5561, 11.6939, 9.1691    \n",
       "[47,] 11.3508, 10.1880, 10.0656, 10.8547, 10.4957, 10.2744, 10.9144, 10.4537, 10.4502, 10.7549\n",
       "[48,] 8.9484, 8.6711, 7.8280, 5.4608, 11.7594, 8.3289, 7.8908, 7.9024, 8.5856, 6.6381         \n",
       "[49,] 0.9986, 7.5977, 6.1679, 1.4206, 3.3665, 14.0057, 6.4570, 7.9623, 14.8767, 8.6617        \n",
       "[50,] 0.9986, 5.1275, 7.7122, 8.5267, 6.7046, 5.4975, 2.9067, 3.1313, 1.2307, 7.6679          \n",
       "[51,] 6.0122, 6.2262, 4.6476, 0.0000, 2.1332, 6.2477, 4.2405, 7.8357, 2.9810, 3.8257          \n",
       "[52,] 0.0000, 3.3699, 2.0657, 1.0826, 0.0000, 7.1328, 3.4061, 1.1337, 0.7428, 4.8561          \n",
       "[53,] 4.0848, 1.8265, 2.0657, 3.9573, 1.4295, 0.5981, 0.6698, 0.0000, 0.0000, 0.0000          \n",
       "[54,] 0.0000, 5.7677, 6.2904, 4.7089, 7.8850, 6.4564, 1.7499, 7.8209, 8.7593, 8.8128          \n",
       "[55,] 0.0000, 0.8867, 0.0000, 0.0000, 0.0000, 0.0000, 0.0000, 0.0000, 0.0000, 0.7956          \n",
       "[56,] 0.0000, 3.1110, 1.7612, 4.2393, 2.7923, 0.5981, 1.1255, 3.6940, 5.3950, 2.6583          \n",
       "[57,] 1.5830, 3.3699, 3.0302, 1.6942, 0.8849, 2.3532, 3.3019, 2.5303, 1.5946, 1.3055          \n",
       "[58,] 1.9978, 2.6072, 3.0302, 2.2965, 4.7226, 3.5592, 1.1255, 2.5303, 3.9832, 1.6814          \n",
       "[59,] 1.5830, 4.4739, 1.7612, 0.6406, 2.9586, 0.5981, 3.9792, 3.8810, 2.5145, 3.5895          \n",
       "[60,] 5.2826, 4.2983, 5.6550, 4.0576, 3.6842, 4.3224, 4.8758, 4.7375, 4.2101, 4.3314          \n",
       "[61,] 10.2319, 1.4318, 0.0000, 0.0000, 0.0000, 3.9433, 0.6698, 1.1337, 0.0000, 0.0000         "
      ]
     },
     "metadata": {},
     "output_type": "display_data"
    }
   ],
   "source": [
    "response <- POST(hub_url, body = query, content_type = \"text/plain\")\n",
    "response\n",
    "weights = content(response)\n",
    "weights_table = matrix(weights, length(weights))\n",
    "weights_table"
   ]
  },
  {
   "cell_type": "code",
   "execution_count": 214,
   "metadata": {
    "collapsed": false
   },
   "outputs": [
    {
     "data": {
      "text/html": [],
      "text/latex": [],
      "text/markdown": [],
      "text/plain": [
       "<0 x 0 matrix>"
      ]
     },
     "metadata": {},
     "output_type": "display_data"
    }
   ],
   "source": [
    "weights_table"
   ]
  },
  {
   "cell_type": "code",
   "execution_count": null,
   "metadata": {
    "collapsed": true
   },
   "outputs": [],
   "source": []
  }
 ],
 "metadata": {
  "kernelspec": {
   "display_name": "R",
   "language": "R",
   "name": "ir"
  },
  "language_info": {
   "codemirror_mode": "r",
   "file_extension": ".r",
   "mimetype": "text/x-r-source",
   "name": "R",
   "pygments_lexer": "r",
   "version": "3.3.1"
  }
 },
 "nbformat": 4,
 "nbformat_minor": 2
}
