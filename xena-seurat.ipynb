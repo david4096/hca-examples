{
 "cells": [
  {
   "cell_type": "markdown",
   "metadata": {},
   "source": [
    "# R Based Single Cell (Xena, Seurat)"
   ]
  },
  {
   "cell_type": "markdown",
   "metadata": {},
   "source": [
    "This notebook demonstrates getting data from a functional genomics server (Xena), and preparing those data for analysis in Seurat."
   ]
  },
  {
   "cell_type": "markdown",
   "metadata": {},
   "source": [
    "## Acquiring Data from Xena"
   ]
  },
  {
   "cell_type": "markdown",
   "metadata": {},
   "source": [
    "Xena provides an HTTP interface that accepts AST in a lisp-like syntax. Also included are some domain specific language (DSL) functions for working with functional genomics data, as well as an SQL interface."
   ]
  },
  {
   "cell_type": "markdown",
   "metadata": {},
   "source": [
    "Providing named client functions makes working with these data easier, however, for demonstration we will show how you can use the Xena query interface execute an arbitrary query."
   ]
  },
  {
   "cell_type": "code",
   "execution_count": 187,
   "metadata": {
    "collapsed": true
   },
   "outputs": [],
   "source": [
    "# A library for sending/receiving HTTP requests\n",
    "library('httr')\n",
    "\n",
    "# The URL for the xena data we are after\n",
    "hub_url <- \"https://toil.xenahubs.net/data/\"\n",
    "\n",
    "# A simple query, should return 2\n",
    "query <- \"(+ 1 1)\""
   ]
  },
  {
   "cell_type": "code",
   "execution_count": 188,
   "metadata": {
    "collapsed": false,
    "scrolled": true
   },
   "outputs": [
    {
     "data": {
      "text/html": [
       "2"
      ],
      "text/latex": [
       "2"
      ],
      "text/markdown": [
       "2"
      ],
      "text/plain": [
       "[1] 2"
      ]
     },
     "metadata": {},
     "output_type": "display_data"
    }
   ],
   "source": [
    "response <- POST(hub_url, body = query, content_type = \"text/plain\")\n",
    "content(response)"
   ]
  },
  {
   "cell_type": "markdown",
   "metadata": {},
   "source": [
    "### Writing Xena Queries"
   ]
  },
  {
   "cell_type": "markdown",
   "metadata": {},
   "source": [
    "The Xena data model can be accessed using a lisp-like DSL. When creating a Seurat analysis, we will need a list of samples, genes, and the expressions between them.\n",
    "\n",
    "We can also get a list of gene-names to gene-identifiers to make reading our results easier."
   ]
  },
  {
   "cell_type": "code",
   "execution_count": 189,
   "metadata": {
    "collapsed": false
   },
   "outputs": [],
   "source": [
    "# This library allows one to perform nice string templating\n",
    "library(gsubfn)\n",
    "\n",
    "# A named dataset that contains gene-wise expression counts\n",
    "dataset <- \"tcga_RSEM_Hugo_norm_count\""
   ]
  },
  {
   "cell_type": "markdown",
   "metadata": {
    "collapsed": true
   },
   "source": [
    "#### Query templates"
   ]
  },
  {
   "cell_type": "markdown",
   "metadata": {},
   "source": [
    "Each of these literals are a query template. Backticks are used to create logical scope for interpolating strings.\n",
    "\n",
    "These queries will be used below to get our data. In the future, these functions could be accessed by named methods of a Xena client, as in the python client."
   ]
  },
  {
   "cell_type": "code",
   "execution_count": 190,
   "metadata": {
    "collapsed": false
   },
   "outputs": [],
   "source": [
    "cohort_template <- '(map :cohort (query {:select [:%distinct.cohort]\n",
    "                     :from [:dataset]\n",
    "                     :where [:not [:is nil :cohort]]}))'"
   ]
  },
  {
   "cell_type": "code",
   "execution_count": 191,
   "metadata": {
    "collapsed": false
   },
   "outputs": [],
   "source": [
    "fetch_template <- '(fetch [{:table \"`dataset`\"\n",
    "                               :samples [\"`paste(samples_query, collapse = \\'\", \"\\')`\"]\n",
    "                               :columns [\"`paste(features_query, collapse = \\'\", \"\\')`\"]}])])'"
   ]
  },
  {
   "cell_type": "code",
   "execution_count": 192,
   "metadata": {
    "collapsed": true
   },
   "outputs": [],
   "source": [
    "samples_template <- '(map :value (query {:select [:value]\n",
    "            :from [:dataset]\n",
    "            :join [:field [:= :dataset.id :dataset_id]\n",
    "            :code [:= :field.id :field_id]]\n",
    "            :where [:and\n",
    "            [:= :dataset.name \"`dataset`\"]\n",
    "            [:= :field.name \"sampleID\"]]}))'"
   ]
  },
  {
   "cell_type": "code",
   "execution_count": 193,
   "metadata": {
    "collapsed": true
   },
   "outputs": [],
   "source": [
    "features_template <- '(map :name (query {:select [:field.name]\n",
    "             :from [:dataset]\n",
    "             :join [:field [:= :dataset.id :dataset_id]]\n",
    "             :where [:= :dataset.name \"`dataset`\"]}))'"
   ]
  },
  {
   "cell_type": "markdown",
   "metadata": {},
   "source": [
    "### Getting Data"
   ]
  },
  {
   "cell_type": "markdown",
   "metadata": {},
   "source": [
    "#### Getting Features\n",
    "First, we'll get the list of featurees for the dataset. We'll print out the query that will be sent to Xena (including newline characters)."
   ]
  },
  {
   "cell_type": "code",
   "execution_count": 194,
   "metadata": {
    "collapsed": false
   },
   "outputs": [
    {
     "data": {
      "text/html": [
       "<span style=white-space:pre-wrap>'(map :name (query {:select [:field.name]\\n             :from [:dataset]\\n             :join [:field [:= :dataset.id :dataset_id]]\\n             :where [:= :dataset.name \"tcga_RSEM_Hugo_norm_count\"]}))'</span>"
      ],
      "text/latex": [
       "'(map :name (query \\{:select {[}:field.name{]}\\textbackslash{}n             :from {[}:dataset{]}\\textbackslash{}n             :join {[}:field {[}:= :dataset.id :dataset\\_id{]}{]}\\textbackslash{}n             :where {[}:= :dataset.name \"tcga\\_RSEM\\_Hugo\\_norm\\_count\"{]}\\}))'"
      ],
      "text/markdown": [
       "<span style=white-space:pre-wrap>'(map :name (query {:select [:field.name]\\n             :from [:dataset]\\n             :join [:field [:= :dataset.id :dataset_id]]\\n             :where [:= :dataset.name \"tcga_RSEM_Hugo_norm_count\"]}))'</span>"
      ],
      "text/plain": [
       "[1] \"(map :name (query {:select [:field.name]\\n             :from [:dataset]\\n             :join [:field [:= :dataset.id :dataset_id]]\\n             :where [:= :dataset.name \\\"tcga_RSEM_Hugo_norm_count\\\"]}))\""
      ]
     },
     "metadata": {},
     "output_type": "display_data"
    }
   ],
   "source": [
    "query <- fn$identity(features_template)\n",
    "query"
   ]
  },
  {
   "cell_type": "markdown",
   "metadata": {},
   "source": [
    "*Note that we have interpolated in the dataset name to constrain our search.*"
   ]
  },
  {
   "cell_type": "code",
   "execution_count": 195,
   "metadata": {
    "collapsed": true
   },
   "outputs": [],
   "source": [
    "response <- POST(hub_url, body = query, content_type = \"text/plain\")"
   ]
  },
  {
   "cell_type": "markdown",
   "metadata": {},
   "source": [
    "We can look at the response attributes expecting a Status 200 with some size that seems reasonable for the number of expected samples."
   ]
  },
  {
   "cell_type": "code",
   "execution_count": 196,
   "metadata": {
    "collapsed": false
   },
   "outputs": [
    {
     "data": {
      "text/plain": [
       "Response [https://toil.xenahubs.net/data/]\n",
       "  Date: 2017-05-12 16:39\n",
       "  Status: 200\n",
       "  Content-Type: application/json;charset=UTF-8\n",
       "  Size: 682 kB\n"
      ]
     },
     "metadata": {},
     "output_type": "display_data"
    }
   ],
   "source": [
    "response\n",
    "features = content(response)"
   ]
  },
  {
   "cell_type": "code",
   "execution_count": 197,
   "metadata": {
    "collapsed": false
   },
   "outputs": [
    {
     "data": {
      "text/html": [
       "<ol>\n",
       "\t<li>'5S_rRNA'</li>\n",
       "\t<li>'5_8S_rRNA'</li>\n",
       "\t<li>'7SK'</li>\n",
       "\t<li>'A1BG'</li>\n",
       "\t<li>'A1BG-AS1'</li>\n",
       "\t<li>'A1CF'</li>\n",
       "\t<li>'A2M'</li>\n",
       "\t<li>'A2M-AS1'</li>\n",
       "\t<li>'A2ML1'</li>\n",
       "\t<li>'A2ML1-AS1'</li>\n",
       "</ol>\n"
      ],
      "text/latex": [
       "\\begin{enumerate}\n",
       "\\item '5S\\_rRNA'\n",
       "\\item '5\\_8S\\_rRNA'\n",
       "\\item '7SK'\n",
       "\\item 'A1BG'\n",
       "\\item 'A1BG-AS1'\n",
       "\\item 'A1CF'\n",
       "\\item 'A2M'\n",
       "\\item 'A2M-AS1'\n",
       "\\item 'A2ML1'\n",
       "\\item 'A2ML1-AS1'\n",
       "\\end{enumerate}\n"
      ],
      "text/markdown": [
       "1. '5S_rRNA'\n",
       "2. '5_8S_rRNA'\n",
       "3. '7SK'\n",
       "4. 'A1BG'\n",
       "5. 'A1BG-AS1'\n",
       "6. 'A1CF'\n",
       "7. 'A2M'\n",
       "8. 'A2M-AS1'\n",
       "9. 'A2ML1'\n",
       "10. 'A2ML1-AS1'\n",
       "\n",
       "\n"
      ],
      "text/plain": [
       "[[1]]\n",
       "[1] \"5S_rRNA\"\n",
       "\n",
       "[[2]]\n",
       "[1] \"5_8S_rRNA\"\n",
       "\n",
       "[[3]]\n",
       "[1] \"7SK\"\n",
       "\n",
       "[[4]]\n",
       "[1] \"A1BG\"\n",
       "\n",
       "[[5]]\n",
       "[1] \"A1BG-AS1\"\n",
       "\n",
       "[[6]]\n",
       "[1] \"A1CF\"\n",
       "\n",
       "[[7]]\n",
       "[1] \"A2M\"\n",
       "\n",
       "[[8]]\n",
       "[1] \"A2M-AS1\"\n",
       "\n",
       "[[9]]\n",
       "[1] \"A2ML1\"\n",
       "\n",
       "[[10]]\n",
       "[1] \"A2ML1-AS1\"\n"
      ]
     },
     "metadata": {},
     "output_type": "display_data"
    }
   ],
   "source": [
    "# Print out some of the features\n",
    "features_table <- matrix(features, length(features))\n",
    "features_table[0:10]"
   ]
  },
  {
   "cell_type": "markdown",
   "metadata": {},
   "source": [
    "We then write the table to file so that it can be used by Seurat (and others). "
   ]
  },
  {
   "cell_type": "code",
   "execution_count": 198,
   "metadata": {
    "collapsed": false
   },
   "outputs": [],
   "source": [
    "write.table(features_table, 'genes.tsv', sep = '\\t', append=F, quote=F, col.names=F, row.names=F)"
   ]
  },
  {
   "cell_type": "markdown",
   "metadata": {},
   "source": [
    "#### Getting Samples\n",
    "\n",
    "Now we will query the server for the available samples in the dataset."
   ]
  },
  {
   "cell_type": "code",
   "execution_count": 199,
   "metadata": {
    "collapsed": false
   },
   "outputs": [
    {
     "data": {
      "text/html": [
       "<span style=white-space:pre-wrap>'(map :value (query {:select [:value]\\n            :from [:dataset]\\n            :join [:field [:= :dataset.id :dataset_id]\\n            :code [:= :field.id :field_id]]\\n            :where [:and\\n            [:= :dataset.name \"tcga_RSEM_Hugo_norm_count\"]\\n            [:= :field.name \"sampleID\"]]}))'</span>"
      ],
      "text/latex": [
       "'(map :value (query \\{:select {[}:value{]}\\textbackslash{}n            :from {[}:dataset{]}\\textbackslash{}n            :join {[}:field {[}:= :dataset.id :dataset\\_id{]}\\textbackslash{}n            :code {[}:= :field.id :field\\_id{]}{]}\\textbackslash{}n            :where {[}:and\\textbackslash{}n            {[}:= :dataset.name \"tcga\\_RSEM\\_Hugo\\_norm\\_count\"{]}\\textbackslash{}n            {[}:= :field.name \"sampleID\"{]}{]}\\}))'"
      ],
      "text/markdown": [
       "<span style=white-space:pre-wrap>'(map :value (query {:select [:value]\\n            :from [:dataset]\\n            :join [:field [:= :dataset.id :dataset_id]\\n            :code [:= :field.id :field_id]]\\n            :where [:and\\n            [:= :dataset.name \"tcga_RSEM_Hugo_norm_count\"]\\n            [:= :field.name \"sampleID\"]]}))'</span>"
      ],
      "text/plain": [
       "[1] \"(map :value (query {:select [:value]\\n            :from [:dataset]\\n            :join [:field [:= :dataset.id :dataset_id]\\n            :code [:= :field.id :field_id]]\\n            :where [:and\\n            [:= :dataset.name \\\"tcga_RSEM_Hugo_norm_count\\\"]\\n            [:= :field.name \\\"sampleID\\\"]]}))\""
      ]
     },
     "metadata": {},
     "output_type": "display_data"
    },
    {
     "data": {
      "text/plain": [
       "Response [https://toil.xenahubs.net/data/]\n",
       "  Date: 2017-05-12 16:39\n",
       "  Status: 200\n",
       "  Content-Type: application/json;charset=UTF-8\n",
       "  Size: 190 kB\n"
      ]
     },
     "metadata": {},
     "output_type": "display_data"
    },
    {
     "data": {
      "text/html": [
       "<ol>\n",
       "\t<li>'TCGA-OR-A5JX-01'</li>\n",
       "\t<li>'TCGA-HV-A5A5-01'</li>\n",
       "\t<li>'TCGA-MQ-A4LP-01'</li>\n",
       "\t<li>'TCGA-FD-A3N5-01'</li>\n",
       "\t<li>'TCGA-EP-A2KC-01'</li>\n",
       "\t<li>'TCGA-BH-A1F0-11'</li>\n",
       "\t<li>'TCGA-A8-A079-01'</li>\n",
       "\t<li>'TCGA-EL-A4JZ-01'</li>\n",
       "\t<li>'TCGA-LH-A9QB-06'</li>\n",
       "\t<li>'TCGA-DK-A2I2-01'</li>\n",
       "</ol>\n"
      ],
      "text/latex": [
       "\\begin{enumerate}\n",
       "\\item 'TCGA-OR-A5JX-01'\n",
       "\\item 'TCGA-HV-A5A5-01'\n",
       "\\item 'TCGA-MQ-A4LP-01'\n",
       "\\item 'TCGA-FD-A3N5-01'\n",
       "\\item 'TCGA-EP-A2KC-01'\n",
       "\\item 'TCGA-BH-A1F0-11'\n",
       "\\item 'TCGA-A8-A079-01'\n",
       "\\item 'TCGA-EL-A4JZ-01'\n",
       "\\item 'TCGA-LH-A9QB-06'\n",
       "\\item 'TCGA-DK-A2I2-01'\n",
       "\\end{enumerate}\n"
      ],
      "text/markdown": [
       "1. 'TCGA-OR-A5JX-01'\n",
       "2. 'TCGA-HV-A5A5-01'\n",
       "3. 'TCGA-MQ-A4LP-01'\n",
       "4. 'TCGA-FD-A3N5-01'\n",
       "5. 'TCGA-EP-A2KC-01'\n",
       "6. 'TCGA-BH-A1F0-11'\n",
       "7. 'TCGA-A8-A079-01'\n",
       "8. 'TCGA-EL-A4JZ-01'\n",
       "9. 'TCGA-LH-A9QB-06'\n",
       "10. 'TCGA-DK-A2I2-01'\n",
       "\n",
       "\n"
      ],
      "text/plain": [
       "[[1]]\n",
       "[1] \"TCGA-OR-A5JX-01\"\n",
       "\n",
       "[[2]]\n",
       "[1] \"TCGA-HV-A5A5-01\"\n",
       "\n",
       "[[3]]\n",
       "[1] \"TCGA-MQ-A4LP-01\"\n",
       "\n",
       "[[4]]\n",
       "[1] \"TCGA-FD-A3N5-01\"\n",
       "\n",
       "[[5]]\n",
       "[1] \"TCGA-EP-A2KC-01\"\n",
       "\n",
       "[[6]]\n",
       "[1] \"TCGA-BH-A1F0-11\"\n",
       "\n",
       "[[7]]\n",
       "[1] \"TCGA-A8-A079-01\"\n",
       "\n",
       "[[8]]\n",
       "[1] \"TCGA-EL-A4JZ-01\"\n",
       "\n",
       "[[9]]\n",
       "[1] \"TCGA-LH-A9QB-06\"\n",
       "\n",
       "[[10]]\n",
       "[1] \"TCGA-DK-A2I2-01\"\n"
      ]
     },
     "metadata": {},
     "output_type": "display_data"
    }
   ],
   "source": [
    "query <- fn$identity(samples_template)\n",
    "query\n",
    "response <- POST(hub_url, body = query, content_type = \"text/plain\")\n",
    "response\n",
    "samples = content(response)\n",
    "samples_table = matrix(samples, length(samples))\n",
    "samples_table[0:10]"
   ]
  },
  {
   "cell_type": "markdown",
   "metadata": {},
   "source": [
    "And then write the table to file in a similar fashion to the gene list."
   ]
  },
  {
   "cell_type": "code",
   "execution_count": 200,
   "metadata": {
    "collapsed": true
   },
   "outputs": [],
   "source": [
    "write.table(samples_table, 'barcodes.tsv', sep = '\\t', append=F, quote=F, col.names=F, row.names=F)"
   ]
  },
  {
   "cell_type": "markdown",
   "metadata": {},
   "source": [
    "#### Getting Expression Data\n",
    "\n",
    "Now that we have the list of samples and genes quantified, we can select all, or a subset of the samples from Xena."
   ]
  },
  {
   "cell_type": "code",
   "execution_count": 201,
   "metadata": {
    "collapsed": false
   },
   "outputs": [],
   "source": [
    "features_query <- features_table[7998:8003]\n",
    "samples_query <- samples_table[0:10]\n",
    "query <- fn$identity(fetch_template)"
   ]
  },
  {
   "cell_type": "markdown",
   "metadata": {},
   "source": [
    "Now, with a fully formed query, we can request the weights."
   ]
  },
  {
   "cell_type": "code",
   "execution_count": 217,
   "metadata": {
    "collapsed": false
   },
   "outputs": [
    {
     "data": {
      "text/plain": [
       "Response [https://toil.xenahubs.net/data/]\n",
       "  Date: 2017-05-12 16:56\n",
       "  Status: 200\n",
       "  Content-Type: application/json;charset=UTF-8\n",
       "  Size: 496 B\n"
      ]
     },
     "metadata": {},
     "output_type": "display_data"
    },
    {
     "ename": "ERROR",
     "evalue": "Error in apply(1:5, 0, as.numeric): dim(X) must have a positive length\n",
     "output_type": "error",
     "traceback": [
      "Error in apply(1:5, 0, as.numeric): dim(X) must have a positive length\nTraceback:\n",
      "1. apply(1:5, 0, as.numeric)",
      "2. stop(\"dim(X) must have a positive length\")"
     ]
    }
   ],
   "source": [
    "response <- POST(hub_url, body = query, content_type = \"text/plain\")\n",
    "response\n",
    "weights <- content(response)\n",
    "weights <- matrix(weights, length(weights))\n",
    "weights <- apply(1:5, 0,as.numeric)\n",
    "# weights_table\n",
    "# dim(weights_table)"
   ]
  },
  {
   "cell_type": "markdown",
   "metadata": {
    "collapsed": false
   },
   "source": [
    "Now, instead of writing to a table, Seurat will expect the MatrixMarket format."
   ]
  },
  {
   "cell_type": "code",
   "execution_count": 147,
   "metadata": {
    "collapsed": false
   },
   "outputs": [
    {
     "ename": "ERROR",
     "evalue": "Error in lapply(weights_table, as.numeric): (list) object cannot be coerced to type 'double'\n",
     "output_type": "error",
     "traceback": [
      "Error in lapply(weights_table, as.numeric): (list) object cannot be coerced to type 'double'\nTraceback:\n",
      "1. as.data.frame(lapply(weights_table, as.numeric))",
      "2. lapply(weights_table, as.numeric)"
     ]
    }
   ],
   "source": [
    "    #weights_table <- sapply(weights_table,as.numeric)\n",
    "#weights_table[2]\n",
    "#weights_matrix <- as(weights_table, \"CsparseMatrix\")\n",
    "#weights_matrix <- provideDimnames(weights_matrix, sep = \"\", base = list(LETTERS), unique = TRUE)\n",
    "weights_matrix <- as.data.frame(lapply(weights_table, as.numeric))\n",
    "weights_matrix\n",
    "writeMM(weights_matrix, \"matrix.mtx\")"
   ]
  },
  {
   "cell_type": "markdown",
   "metadata": {},
   "source": [
    "# Loading Data into Seurat\n",
    "\n",
    "Now that we have arranged all of the data we would like from Xena, we can load it into a Seurat object to begin analysis."
   ]
  },
  {
   "cell_type": "code",
   "execution_count": 80,
   "metadata": {
    "collapsed": false
   },
   "outputs": [
    {
     "data": {
      "text/plain": [
       "60 x 1 sparse Matrix of class \"dgTMatrix\"\n",
       "            \n",
       " [1,] 0.9986\n",
       " [2,] 2.5138\n",
       " [3,] .     \n",
       " [4,] 2.4520\n",
       " [5,] 0.8849\n",
       " [6,] .     \n",
       " [7,] 1.0116\n",
       " [8,] 0.6755\n",
       " [9,] 1.1454\n",
       "[10,] 2.4370\n",
       "[11,] .     \n",
       "[12,] .     \n",
       "[13,] .     \n",
       "[14,] .     \n",
       "[15,] .     \n",
       "[16,] .     \n",
       "[17,] .     \n",
       "[18,] .     \n",
       "[19,] .     \n",
       "[20,] .     \n",
       "[21,] 5.1671\n",
       "[22,] 5.4964\n",
       "[23,] 6.7408\n",
       "[24,] 4.5110\n",
       "[25,] 4.6269\n",
       "[26,] 6.2184\n",
       "[27,] 5.5929\n",
       "[28,] 6.6627\n",
       "[29,] 6.2811\n",
       "[30,] 4.7015\n",
       "[31,] .     \n",
       "[32,] .     \n",
       "[33,] .     \n",
       "[34,] .     \n",
       "[35,] .     \n",
       "[36,] .     \n",
       "[37,] .     \n",
       "[38,] .     \n",
       "[39,] .     \n",
       "[40,] .     \n",
       "[41,] .     \n",
       "[42,] .     \n",
       "[43,] .     \n",
       "[44,] .     \n",
       "[45,] .     \n",
       "[46,] .     \n",
       "[47,] .     \n",
       "[48,] .     \n",
       "[49,] .     \n",
       "[50,] .     \n",
       "[51,] .     \n",
       "[52,] .     \n",
       "[53,] .     \n",
       "[54,] .     \n",
       "[55,] .     \n",
       "[56,] .     \n",
       "[57,] .     \n",
       "[58,] .     \n",
       "[59,] .     \n",
       "[60,] .     "
      ]
     },
     "metadata": {},
     "output_type": "display_data"
    }
   ],
   "source": [
    "library(Seurat)\n",
    "data <- readMM('matrix.mtx')\n",
    "data\n",
    "#pbmc.data <- Read10X('./')"
   ]
  }
 ],
 "metadata": {
  "kernelspec": {
   "display_name": "R",
   "language": "R",
   "name": "ir"
  },
  "language_info": {
   "codemirror_mode": "r",
   "file_extension": ".r",
   "mimetype": "text/x-r-source",
   "name": "R",
   "pygments_lexer": "r",
   "version": "3.3.1"
  }
 },
 "nbformat": 4,
 "nbformat_minor": 2
}
